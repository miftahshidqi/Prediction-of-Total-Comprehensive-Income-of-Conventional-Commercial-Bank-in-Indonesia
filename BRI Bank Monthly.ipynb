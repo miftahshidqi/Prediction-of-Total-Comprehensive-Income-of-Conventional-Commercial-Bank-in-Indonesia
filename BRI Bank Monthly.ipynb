{
  "nbformat": 4,
  "nbformat_minor": 0,
  "metadata": {
    "colab": {
      "name": "S_BBRI_M_V3.ipynb",
      "provenance": [],
      "collapsed_sections": []
    },
    "kernelspec": {
      "name": "python3",
      "display_name": "Python 3"
    },
    "language_info": {
      "name": "python"
    }
  },
  "cells": [
    {
      "cell_type": "code",
      "execution_count": 1,
      "metadata": {
        "id": "VSg4hWXV6E4t"
      },
      "outputs": [],
      "source": [
        "import numpy as np\n",
        "import pandas as pd\n",
        "from tensorflow import keras\n",
        "from keras.models import Sequential\n",
        "from keras.layers import Dense\n",
        "import tensorflow as tf\n",
        "from tensorflow.keras.optimizers import Adam \n",
        "from sklearn.metrics import mean_squared_error\n",
        "from sklearn.preprocessing import MinMaxScaler\n",
        "import math\n",
        "import matplotlib.pyplot as plt\n",
        "from statistics import mean"
      ]
    },
    {
      "cell_type": "code",
      "source": [
        "# from google.colab import drive\n",
        "# drive.mount('/content/drive')\n",
        "# %cd /content/drive/MyDrive/Dataset TA/BRI/BBRI M"
      ],
      "metadata": {
        "colab": {
          "base_uri": "https://localhost:8080/"
        },
        "id": "3Ji2A1XZ6Jhz",
        "outputId": "00a5d4bf-5dd9-4cc9-86be-a34009f19e11"
      },
      "execution_count": null,
      "outputs": [
        {
          "output_type": "stream",
          "name": "stdout",
          "text": [
            "Mounted at /content/drive\n",
            "/content/drive/MyDrive/Dataset TA/BRI/BBRI M\n"
          ]
        }
      ]
    },
    {
      "cell_type": "code",
      "source": [
        "data = pd.read_csv('BBRI M.csv')\n",
        "data"
      ],
      "metadata": {
        "colab": {
          "base_uri": "https://localhost:8080/",
          "height": 424
        },
        "id": "0dw-a5bU6Lvd",
        "outputId": "add2b66b-4993-4983-d29d-9a692573e739"
      },
      "execution_count": null,
      "outputs": [
        {
          "output_type": "execute_result",
          "data": {
            "text/plain": [
              "            Tanggal  Laba Rugi\n",
              "0      January 2011     910348\n",
              "1     February 2011    1818894\n",
              "2        March 2011    2932219\n",
              "3        April 2011    4353052\n",
              "4          May 2011    5433392\n",
              "..              ...        ...\n",
              "127     August 2021   15846192\n",
              "128  September 2021   16775708\n",
              "129    October 2021   21554902\n",
              "130   November 2021   25089983\n",
              "131   December 2021   27557134\n",
              "\n",
              "[132 rows x 2 columns]"
            ],
            "text/html": [
              "\n",
              "  <div id=\"df-b9116b17-d9cd-4eb2-8890-c2fe33cb6a9a\">\n",
              "    <div class=\"colab-df-container\">\n",
              "      <div>\n",
              "<style scoped>\n",
              "    .dataframe tbody tr th:only-of-type {\n",
              "        vertical-align: middle;\n",
              "    }\n",
              "\n",
              "    .dataframe tbody tr th {\n",
              "        vertical-align: top;\n",
              "    }\n",
              "\n",
              "    .dataframe thead th {\n",
              "        text-align: right;\n",
              "    }\n",
              "</style>\n",
              "<table border=\"1\" class=\"dataframe\">\n",
              "  <thead>\n",
              "    <tr style=\"text-align: right;\">\n",
              "      <th></th>\n",
              "      <th>Tanggal</th>\n",
              "      <th>Laba Rugi</th>\n",
              "    </tr>\n",
              "  </thead>\n",
              "  <tbody>\n",
              "    <tr>\n",
              "      <th>0</th>\n",
              "      <td>January 2011</td>\n",
              "      <td>910348</td>\n",
              "    </tr>\n",
              "    <tr>\n",
              "      <th>1</th>\n",
              "      <td>February 2011</td>\n",
              "      <td>1818894</td>\n",
              "    </tr>\n",
              "    <tr>\n",
              "      <th>2</th>\n",
              "      <td>March 2011</td>\n",
              "      <td>2932219</td>\n",
              "    </tr>\n",
              "    <tr>\n",
              "      <th>3</th>\n",
              "      <td>April 2011</td>\n",
              "      <td>4353052</td>\n",
              "    </tr>\n",
              "    <tr>\n",
              "      <th>4</th>\n",
              "      <td>May 2011</td>\n",
              "      <td>5433392</td>\n",
              "    </tr>\n",
              "    <tr>\n",
              "      <th>...</th>\n",
              "      <td>...</td>\n",
              "      <td>...</td>\n",
              "    </tr>\n",
              "    <tr>\n",
              "      <th>127</th>\n",
              "      <td>August 2021</td>\n",
              "      <td>15846192</td>\n",
              "    </tr>\n",
              "    <tr>\n",
              "      <th>128</th>\n",
              "      <td>September 2021</td>\n",
              "      <td>16775708</td>\n",
              "    </tr>\n",
              "    <tr>\n",
              "      <th>129</th>\n",
              "      <td>October 2021</td>\n",
              "      <td>21554902</td>\n",
              "    </tr>\n",
              "    <tr>\n",
              "      <th>130</th>\n",
              "      <td>November 2021</td>\n",
              "      <td>25089983</td>\n",
              "    </tr>\n",
              "    <tr>\n",
              "      <th>131</th>\n",
              "      <td>December 2021</td>\n",
              "      <td>27557134</td>\n",
              "    </tr>\n",
              "  </tbody>\n",
              "</table>\n",
              "<p>132 rows × 2 columns</p>\n",
              "</div>\n",
              "      <button class=\"colab-df-convert\" onclick=\"convertToInteractive('df-b9116b17-d9cd-4eb2-8890-c2fe33cb6a9a')\"\n",
              "              title=\"Convert this dataframe to an interactive table.\"\n",
              "              style=\"display:none;\">\n",
              "        \n",
              "  <svg xmlns=\"http://www.w3.org/2000/svg\" height=\"24px\"viewBox=\"0 0 24 24\"\n",
              "       width=\"24px\">\n",
              "    <path d=\"M0 0h24v24H0V0z\" fill=\"none\"/>\n",
              "    <path d=\"M18.56 5.44l.94 2.06.94-2.06 2.06-.94-2.06-.94-.94-2.06-.94 2.06-2.06.94zm-11 1L8.5 8.5l.94-2.06 2.06-.94-2.06-.94L8.5 2.5l-.94 2.06-2.06.94zm10 10l.94 2.06.94-2.06 2.06-.94-2.06-.94-.94-2.06-.94 2.06-2.06.94z\"/><path d=\"M17.41 7.96l-1.37-1.37c-.4-.4-.92-.59-1.43-.59-.52 0-1.04.2-1.43.59L10.3 9.45l-7.72 7.72c-.78.78-.78 2.05 0 2.83L4 21.41c.39.39.9.59 1.41.59.51 0 1.02-.2 1.41-.59l7.78-7.78 2.81-2.81c.8-.78.8-2.07 0-2.86zM5.41 20L4 18.59l7.72-7.72 1.47 1.35L5.41 20z\"/>\n",
              "  </svg>\n",
              "      </button>\n",
              "      \n",
              "  <style>\n",
              "    .colab-df-container {\n",
              "      display:flex;\n",
              "      flex-wrap:wrap;\n",
              "      gap: 12px;\n",
              "    }\n",
              "\n",
              "    .colab-df-convert {\n",
              "      background-color: #E8F0FE;\n",
              "      border: none;\n",
              "      border-radius: 50%;\n",
              "      cursor: pointer;\n",
              "      display: none;\n",
              "      fill: #1967D2;\n",
              "      height: 32px;\n",
              "      padding: 0 0 0 0;\n",
              "      width: 32px;\n",
              "    }\n",
              "\n",
              "    .colab-df-convert:hover {\n",
              "      background-color: #E2EBFA;\n",
              "      box-shadow: 0px 1px 2px rgba(60, 64, 67, 0.3), 0px 1px 3px 1px rgba(60, 64, 67, 0.15);\n",
              "      fill: #174EA6;\n",
              "    }\n",
              "\n",
              "    [theme=dark] .colab-df-convert {\n",
              "      background-color: #3B4455;\n",
              "      fill: #D2E3FC;\n",
              "    }\n",
              "\n",
              "    [theme=dark] .colab-df-convert:hover {\n",
              "      background-color: #434B5C;\n",
              "      box-shadow: 0px 1px 3px 1px rgba(0, 0, 0, 0.15);\n",
              "      filter: drop-shadow(0px 1px 2px rgba(0, 0, 0, 0.3));\n",
              "      fill: #FFFFFF;\n",
              "    }\n",
              "  </style>\n",
              "\n",
              "      <script>\n",
              "        const buttonEl =\n",
              "          document.querySelector('#df-b9116b17-d9cd-4eb2-8890-c2fe33cb6a9a button.colab-df-convert');\n",
              "        buttonEl.style.display =\n",
              "          google.colab.kernel.accessAllowed ? 'block' : 'none';\n",
              "\n",
              "        async function convertToInteractive(key) {\n",
              "          const element = document.querySelector('#df-b9116b17-d9cd-4eb2-8890-c2fe33cb6a9a');\n",
              "          const dataTable =\n",
              "            await google.colab.kernel.invokeFunction('convertToInteractive',\n",
              "                                                     [key], {});\n",
              "          if (!dataTable) return;\n",
              "\n",
              "          const docLinkHtml = 'Like what you see? Visit the ' +\n",
              "            '<a target=\"_blank\" href=https://colab.research.google.com/notebooks/data_table.ipynb>data table notebook</a>'\n",
              "            + ' to learn more about interactive tables.';\n",
              "          element.innerHTML = '';\n",
              "          dataTable['output_type'] = 'display_data';\n",
              "          await google.colab.output.renderOutput(dataTable, element);\n",
              "          const docLink = document.createElement('div');\n",
              "          docLink.innerHTML = docLinkHtml;\n",
              "          element.appendChild(docLink);\n",
              "        }\n",
              "      </script>\n",
              "    </div>\n",
              "  </div>\n",
              "  "
            ]
          },
          "metadata": {},
          "execution_count": 3
        }
      ]
    },
    {
      "cell_type": "markdown",
      "source": [
        "# Preprocessing"
      ],
      "metadata": {
        "id": "-ubzaqld9945"
      }
    },
    {
      "cell_type": "code",
      "source": [
        "def transform(data):\n",
        "  j = 0\n",
        "  k = j + 11\n",
        "  while k <= len(data):\n",
        "    l = k\n",
        "    while l != j :\n",
        "      a = data[\"Laba Rugi\"][l] - data[\"Laba Rugi\"][l-1]\n",
        "      data[\"Laba Rugi\"][l] = a\n",
        "      l -= 1\n",
        "    j = k + 1\n",
        "    k = j + 11\n",
        "    \n",
        "  return data\n",
        "\n",
        "data = transform(data)\n",
        "data"
      ],
      "metadata": {
        "colab": {
          "base_uri": "https://localhost:8080/"
        },
        "id": "uNoStwyX6MbC",
        "outputId": "e7d1b75d-5bec-49d8-ae2c-68c34f6697b2"
      },
      "execution_count": null,
      "outputs": [
        {
          "output_type": "stream",
          "name": "stderr",
          "text": [
            "/usr/local/lib/python3.7/dist-packages/ipykernel_launcher.py:8: SettingWithCopyWarning: \n",
            "A value is trying to be set on a copy of a slice from a DataFrame\n",
            "\n",
            "See the caveats in the documentation: https://pandas.pydata.org/pandas-docs/stable/user_guide/indexing.html#returning-a-view-versus-a-copy\n",
            "  \n"
          ]
        },
        {
          "output_type": "execute_result",
          "data": {
            "text/plain": [
              "            Tanggal  Laba Rugi\n",
              "0      January 2011     910348\n",
              "1     February 2011     908546\n",
              "2        March 2011    1113325\n",
              "3        April 2011    1420833\n",
              "4          May 2011    1080340\n",
              "..              ...        ...\n",
              "127     August 2021    3867110\n",
              "128  September 2021     929516\n",
              "129    October 2021    4779194\n",
              "130   November 2021    3535081\n",
              "131   December 2021    2467151\n",
              "\n",
              "[132 rows x 2 columns]"
            ],
            "text/html": [
              "\n",
              "  <div id=\"df-65643212-5c76-441e-803a-97a8d85a3476\">\n",
              "    <div class=\"colab-df-container\">\n",
              "      <div>\n",
              "<style scoped>\n",
              "    .dataframe tbody tr th:only-of-type {\n",
              "        vertical-align: middle;\n",
              "    }\n",
              "\n",
              "    .dataframe tbody tr th {\n",
              "        vertical-align: top;\n",
              "    }\n",
              "\n",
              "    .dataframe thead th {\n",
              "        text-align: right;\n",
              "    }\n",
              "</style>\n",
              "<table border=\"1\" class=\"dataframe\">\n",
              "  <thead>\n",
              "    <tr style=\"text-align: right;\">\n",
              "      <th></th>\n",
              "      <th>Tanggal</th>\n",
              "      <th>Laba Rugi</th>\n",
              "    </tr>\n",
              "  </thead>\n",
              "  <tbody>\n",
              "    <tr>\n",
              "      <th>0</th>\n",
              "      <td>January 2011</td>\n",
              "      <td>910348</td>\n",
              "    </tr>\n",
              "    <tr>\n",
              "      <th>1</th>\n",
              "      <td>February 2011</td>\n",
              "      <td>908546</td>\n",
              "    </tr>\n",
              "    <tr>\n",
              "      <th>2</th>\n",
              "      <td>March 2011</td>\n",
              "      <td>1113325</td>\n",
              "    </tr>\n",
              "    <tr>\n",
              "      <th>3</th>\n",
              "      <td>April 2011</td>\n",
              "      <td>1420833</td>\n",
              "    </tr>\n",
              "    <tr>\n",
              "      <th>4</th>\n",
              "      <td>May 2011</td>\n",
              "      <td>1080340</td>\n",
              "    </tr>\n",
              "    <tr>\n",
              "      <th>...</th>\n",
              "      <td>...</td>\n",
              "      <td>...</td>\n",
              "    </tr>\n",
              "    <tr>\n",
              "      <th>127</th>\n",
              "      <td>August 2021</td>\n",
              "      <td>3867110</td>\n",
              "    </tr>\n",
              "    <tr>\n",
              "      <th>128</th>\n",
              "      <td>September 2021</td>\n",
              "      <td>929516</td>\n",
              "    </tr>\n",
              "    <tr>\n",
              "      <th>129</th>\n",
              "      <td>October 2021</td>\n",
              "      <td>4779194</td>\n",
              "    </tr>\n",
              "    <tr>\n",
              "      <th>130</th>\n",
              "      <td>November 2021</td>\n",
              "      <td>3535081</td>\n",
              "    </tr>\n",
              "    <tr>\n",
              "      <th>131</th>\n",
              "      <td>December 2021</td>\n",
              "      <td>2467151</td>\n",
              "    </tr>\n",
              "  </tbody>\n",
              "</table>\n",
              "<p>132 rows × 2 columns</p>\n",
              "</div>\n",
              "      <button class=\"colab-df-convert\" onclick=\"convertToInteractive('df-65643212-5c76-441e-803a-97a8d85a3476')\"\n",
              "              title=\"Convert this dataframe to an interactive table.\"\n",
              "              style=\"display:none;\">\n",
              "        \n",
              "  <svg xmlns=\"http://www.w3.org/2000/svg\" height=\"24px\"viewBox=\"0 0 24 24\"\n",
              "       width=\"24px\">\n",
              "    <path d=\"M0 0h24v24H0V0z\" fill=\"none\"/>\n",
              "    <path d=\"M18.56 5.44l.94 2.06.94-2.06 2.06-.94-2.06-.94-.94-2.06-.94 2.06-2.06.94zm-11 1L8.5 8.5l.94-2.06 2.06-.94-2.06-.94L8.5 2.5l-.94 2.06-2.06.94zm10 10l.94 2.06.94-2.06 2.06-.94-2.06-.94-.94-2.06-.94 2.06-2.06.94z\"/><path d=\"M17.41 7.96l-1.37-1.37c-.4-.4-.92-.59-1.43-.59-.52 0-1.04.2-1.43.59L10.3 9.45l-7.72 7.72c-.78.78-.78 2.05 0 2.83L4 21.41c.39.39.9.59 1.41.59.51 0 1.02-.2 1.41-.59l7.78-7.78 2.81-2.81c.8-.78.8-2.07 0-2.86zM5.41 20L4 18.59l7.72-7.72 1.47 1.35L5.41 20z\"/>\n",
              "  </svg>\n",
              "      </button>\n",
              "      \n",
              "  <style>\n",
              "    .colab-df-container {\n",
              "      display:flex;\n",
              "      flex-wrap:wrap;\n",
              "      gap: 12px;\n",
              "    }\n",
              "\n",
              "    .colab-df-convert {\n",
              "      background-color: #E8F0FE;\n",
              "      border: none;\n",
              "      border-radius: 50%;\n",
              "      cursor: pointer;\n",
              "      display: none;\n",
              "      fill: #1967D2;\n",
              "      height: 32px;\n",
              "      padding: 0 0 0 0;\n",
              "      width: 32px;\n",
              "    }\n",
              "\n",
              "    .colab-df-convert:hover {\n",
              "      background-color: #E2EBFA;\n",
              "      box-shadow: 0px 1px 2px rgba(60, 64, 67, 0.3), 0px 1px 3px 1px rgba(60, 64, 67, 0.15);\n",
              "      fill: #174EA6;\n",
              "    }\n",
              "\n",
              "    [theme=dark] .colab-df-convert {\n",
              "      background-color: #3B4455;\n",
              "      fill: #D2E3FC;\n",
              "    }\n",
              "\n",
              "    [theme=dark] .colab-df-convert:hover {\n",
              "      background-color: #434B5C;\n",
              "      box-shadow: 0px 1px 3px 1px rgba(0, 0, 0, 0.15);\n",
              "      filter: drop-shadow(0px 1px 2px rgba(0, 0, 0, 0.3));\n",
              "      fill: #FFFFFF;\n",
              "    }\n",
              "  </style>\n",
              "\n",
              "      <script>\n",
              "        const buttonEl =\n",
              "          document.querySelector('#df-65643212-5c76-441e-803a-97a8d85a3476 button.colab-df-convert');\n",
              "        buttonEl.style.display =\n",
              "          google.colab.kernel.accessAllowed ? 'block' : 'none';\n",
              "\n",
              "        async function convertToInteractive(key) {\n",
              "          const element = document.querySelector('#df-65643212-5c76-441e-803a-97a8d85a3476');\n",
              "          const dataTable =\n",
              "            await google.colab.kernel.invokeFunction('convertToInteractive',\n",
              "                                                     [key], {});\n",
              "          if (!dataTable) return;\n",
              "\n",
              "          const docLinkHtml = 'Like what you see? Visit the ' +\n",
              "            '<a target=\"_blank\" href=https://colab.research.google.com/notebooks/data_table.ipynb>data table notebook</a>'\n",
              "            + ' to learn more about interactive tables.';\n",
              "          element.innerHTML = '';\n",
              "          dataTable['output_type'] = 'display_data';\n",
              "          await google.colab.output.renderOutput(dataTable, element);\n",
              "          const docLink = document.createElement('div');\n",
              "          docLink.innerHTML = docLinkHtml;\n",
              "          element.appendChild(docLink);\n",
              "        }\n",
              "      </script>\n",
              "    </div>\n",
              "  </div>\n",
              "  "
            ]
          },
          "metadata": {},
          "execution_count": 4
        }
      ]
    },
    {
      "cell_type": "code",
      "source": [
        "# data.to_excel('transformed data BBRI M.xlsx')"
      ],
      "metadata": {
        "id": "qoWhruYMvMcw"
      },
      "execution_count": null,
      "outputs": []
    },
    {
      "cell_type": "code",
      "source": [
        "data.index = pd.to_datetime(data.Tanggal)\n",
        "data.drop([\"Tanggal\"], axis=1, inplace=True)\n",
        "data.plot(title=\"BBRI Monthly\", figsize=(10,5))"
      ],
      "metadata": {
        "colab": {
          "base_uri": "https://localhost:8080/"
        },
        "id": "Cbts0PMz-Aj5",
        "outputId": "ff9eff13-b7e5-464d-bfda-a1fa2894c012"
      },
      "execution_count": null,
      "outputs": [
        {
          "output_type": "execute_result",
          "data": {
            "text/plain": [
              "<matplotlib.axes._subplots.AxesSubplot at 0x7ff7ac44cc10>"
            ]
          },
          "metadata": {},
          "execution_count": 6
        },
        {
          "output_type": "display_data",
          "data": {
            "text/plain": [
              "<Figure size 720x360 with 1 Axes>"
            ],
            "image/png": "[encoded data removed]"
          },
          "metadata": {
            "needs_background": "light"
          }
        }
      ]
    },
    {
      "cell_type": "code",
      "source": [
        "scaler = MinMaxScaler()\n",
        "\n",
        "data[['Laba Rugi']] = scaler.fit_transform(data[['Laba Rugi']])\n",
        "data"
      ],
      "metadata": {
        "colab": {
          "base_uri": "https://localhost:8080/"
        },
        "id": "91dPqxpX-K-v",
        "outputId": "42712559-6659-411e-d20f-41431a351653"
      },
      "execution_count": null,
      "outputs": [
        {
          "output_type": "execute_result",
          "data": {
            "text/plain": [
              "            Laba Rugi\n",
              "Tanggal              \n",
              "2011-01-01   0.095472\n",
              "2011-02-01   0.095366\n",
              "2011-03-01   0.107356\n",
              "2011-04-01   0.125360\n",
              "2011-05-01   0.105425\n",
              "...               ...\n",
              "2021-08-01   0.268584\n",
              "2021-09-01   0.096594\n",
              "2021-10-01   0.321984\n",
              "2021-11-01   0.249144\n",
              "2021-12-01   0.186619\n",
              "\n",
              "[132 rows x 1 columns]"
            ],
            "text/html": [
              "\n",
              "  <div id=\"df-963d96a6-19c9-4f9d-aeef-fd81c8268e93\">\n",
              "    <div class=\"colab-df-container\">\n",
              "      <div>\n",
              "<style scoped>\n",
              "    .dataframe tbody tr th:only-of-type {\n",
              "        vertical-align: middle;\n",
              "    }\n",
              "\n",
              "    .dataframe tbody tr th {\n",
              "        vertical-align: top;\n",
              "    }\n",
              "\n",
              "    .dataframe thead th {\n",
              "        text-align: right;\n",
              "    }\n",
              "</style>\n",
              "<table border=\"1\" class=\"dataframe\">\n",
              "  <thead>\n",
              "    <tr style=\"text-align: right;\">\n",
              "      <th></th>\n",
              "      <th>Laba Rugi</th>\n",
              "    </tr>\n",
              "    <tr>\n",
              "      <th>Tanggal</th>\n",
              "      <th></th>\n",
              "    </tr>\n",
              "  </thead>\n",
              "  <tbody>\n",
              "    <tr>\n",
              "      <th>2011-01-01</th>\n",
              "      <td>0.095472</td>\n",
              "    </tr>\n",
              "    <tr>\n",
              "      <th>2011-02-01</th>\n",
              "      <td>0.095366</td>\n",
              "    </tr>\n",
              "    <tr>\n",
              "      <th>2011-03-01</th>\n",
              "      <td>0.107356</td>\n",
              "    </tr>\n",
              "    <tr>\n",
              "      <th>2011-04-01</th>\n",
              "      <td>0.125360</td>\n",
              "    </tr>\n",
              "    <tr>\n",
              "      <th>2011-05-01</th>\n",
              "      <td>0.105425</td>\n",
              "    </tr>\n",
              "    <tr>\n",
              "      <th>...</th>\n",
              "      <td>...</td>\n",
              "    </tr>\n",
              "    <tr>\n",
              "      <th>2021-08-01</th>\n",
              "      <td>0.268584</td>\n",
              "    </tr>\n",
              "    <tr>\n",
              "      <th>2021-09-01</th>\n",
              "      <td>0.096594</td>\n",
              "    </tr>\n",
              "    <tr>\n",
              "      <th>2021-10-01</th>\n",
              "      <td>0.321984</td>\n",
              "    </tr>\n",
              "    <tr>\n",
              "      <th>2021-11-01</th>\n",
              "      <td>0.249144</td>\n",
              "    </tr>\n",
              "    <tr>\n",
              "      <th>2021-12-01</th>\n",
              "      <td>0.186619</td>\n",
              "    </tr>\n",
              "  </tbody>\n",
              "</table>\n",
              "<p>132 rows × 1 columns</p>\n",
              "</div>\n",
              "      <button class=\"colab-df-convert\" onclick=\"convertToInteractive('df-963d96a6-19c9-4f9d-aeef-fd81c8268e93')\"\n",
              "              title=\"Convert this dataframe to an interactive table.\"\n",
              "              style=\"display:none;\">\n",
              "        \n",
              "  <svg xmlns=\"http://www.w3.org/2000/svg\" height=\"24px\"viewBox=\"0 0 24 24\"\n",
              "       width=\"24px\">\n",
              "    <path d=\"M0 0h24v24H0V0z\" fill=\"none\"/>\n",
              "    <path d=\"M18.56 5.44l.94 2.06.94-2.06 2.06-.94-2.06-.94-.94-2.06-.94 2.06-2.06.94zm-11 1L8.5 8.5l.94-2.06 2.06-.94-2.06-.94L8.5 2.5l-.94 2.06-2.06.94zm10 10l.94 2.06.94-2.06 2.06-.94-2.06-.94-.94-2.06-.94 2.06-2.06.94z\"/><path d=\"M17.41 7.96l-1.37-1.37c-.4-.4-.92-.59-1.43-.59-.52 0-1.04.2-1.43.59L10.3 9.45l-7.72 7.72c-.78.78-.78 2.05 0 2.83L4 21.41c.39.39.9.59 1.41.59.51 0 1.02-.2 1.41-.59l7.78-7.78 2.81-2.81c.8-.78.8-2.07 0-2.86zM5.41 20L4 18.59l7.72-7.72 1.47 1.35L5.41 20z\"/>\n",
              "  </svg>\n",
              "      </button>\n",
              "      \n",
              "  <style>\n",
              "    .colab-df-container {\n",
              "      display:flex;\n",
              "      flex-wrap:wrap;\n",
              "      gap: 12px;\n",
              "    }\n",
              "\n",
              "    .colab-df-convert {\n",
              "      background-color: #E8F0FE;\n",
              "      border: none;\n",
              "      border-radius: 50%;\n",
              "      cursor: pointer;\n",
              "      display: none;\n",
              "      fill: #1967D2;\n",
              "      height: 32px;\n",
              "      padding: 0 0 0 0;\n",
              "      width: 32px;\n",
              "    }\n",
              "\n",
              "    .colab-df-convert:hover {\n",
              "      background-color: #E2EBFA;\n",
              "      box-shadow: 0px 1px 2px rgba(60, 64, 67, 0.3), 0px 1px 3px 1px rgba(60, 64, 67, 0.15);\n",
              "      fill: #174EA6;\n",
              "    }\n",
              "\n",
              "    [theme=dark] .colab-df-convert {\n",
              "      background-color: #3B4455;\n",
              "      fill: #D2E3FC;\n",
              "    }\n",
              "\n",
              "    [theme=dark] .colab-df-convert:hover {\n",
              "      background-color: #434B5C;\n",
              "      box-shadow: 0px 1px 3px 1px rgba(0, 0, 0, 0.15);\n",
              "      filter: drop-shadow(0px 1px 2px rgba(0, 0, 0, 0.3));\n",
              "      fill: #FFFFFF;\n",
              "    }\n",
              "  </style>\n",
              "\n",
              "      <script>\n",
              "        const buttonEl =\n",
              "          document.querySelector('#df-963d96a6-19c9-4f9d-aeef-fd81c8268e93 button.colab-df-convert');\n",
              "        buttonEl.style.display =\n",
              "          google.colab.kernel.accessAllowed ? 'block' : 'none';\n",
              "\n",
              "        async function convertToInteractive(key) {\n",
              "          const element = document.querySelector('#df-963d96a6-19c9-4f9d-aeef-fd81c8268e93');\n",
              "          const dataTable =\n",
              "            await google.colab.kernel.invokeFunction('convertToInteractive',\n",
              "                                                     [key], {});\n",
              "          if (!dataTable) return;\n",
              "\n",
              "          const docLinkHtml = 'Like what you see? Visit the ' +\n",
              "            '<a target=\"_blank\" href=https://colab.research.google.com/notebooks/data_table.ipynb>data table notebook</a>'\n",
              "            + ' to learn more about interactive tables.';\n",
              "          element.innerHTML = '';\n",
              "          dataTable['output_type'] = 'display_data';\n",
              "          await google.colab.output.renderOutput(dataTable, element);\n",
              "          const docLink = document.createElement('div');\n",
              "          docLink.innerHTML = docLinkHtml;\n",
              "          element.appendChild(docLink);\n",
              "        }\n",
              "      </script>\n",
              "    </div>\n",
              "  </div>\n",
              "  "
            ]
          },
          "metadata": {},
          "execution_count": 7
        }
      ]
    },
    {
      "cell_type": "code",
      "source": [
        "#Train : Test -> 75 : 25\n",
        "split = int(round(len(data)*.75,0))\n",
        "data_train = data[:split] #time series as train data (75%)\n",
        "data_test = data[split:] #time series as test data (25%)\n",
        "\n",
        "#Train : Test -> 50 : 50\n",
        "# split = int(round(len(data)*.5,0))\n",
        "# data_train = data[:split] #time series as train data (50%)\n",
        "# data_test = data[split:] #time series as test data (50%)\n",
        "\n",
        "\n",
        "data_train_arr = data_train.to_numpy()\n",
        "data_test_arr = data_test.to_numpy()\n",
        "\n",
        "train = np.reshape(data_train_arr, (data_train_arr.shape[0]))\n",
        "test = np.reshape(data_test_arr, (data_test_arr.shape[0]))"
      ],
      "metadata": {
        "id": "7gz_ZaVk-U0t"
      },
      "execution_count": null,
      "outputs": []
    },
    {
      "cell_type": "code",
      "source": [
        "print(\"% data test: \", len(data_test)/132*100)"
      ],
      "metadata": {
        "colab": {
          "base_uri": "https://localhost:8080/"
        },
        "id": "qdM05zhl-7zv",
        "outputId": "053377db-a048-44ac-de13-ae037fc033ec"
      },
      "execution_count": null,
      "outputs": [
        {
          "output_type": "stream",
          "name": "stdout",
          "text": [
            "% data test:  25.0\n"
          ]
        }
      ]
    },
    {
      "cell_type": "code",
      "source": [
        "#input sampling timeseries\n",
        "n_sampling = 12\n",
        "\n",
        "def split_sequence(sequence, n_steps):\n",
        "\t_X, _y = list(), list()\n",
        "\tfor i in range(len(sequence)):\n",
        "\t\t# find the end of this pattern\n",
        "\t\tend_ix = i + n_steps\n",
        "\t\t# check if we are beyond the sequence\n",
        "\t\tif end_ix > len(sequence)-1:\n",
        "\t\t\tbreak\n",
        "\t\t# gather input and output parts of the pattern\n",
        "\t\tseq_x, seq_y = sequence[i:end_ix], sequence[end_ix]\n",
        "\t\t_X.append(seq_x)\n",
        "\t\t_y.append(seq_y)\n",
        "\treturn np.array(_X), np.array(_y)\n",
        "\n",
        "x_train, y_train = split_sequence(train, n_sampling)\n",
        "x_test, y_test = split_sequence(test, n_sampling)"
      ],
      "metadata": {
        "id": "TPipRy3L-xBA"
      },
      "execution_count": null,
      "outputs": []
    },
    {
      "cell_type": "markdown",
      "source": [
        "# Learning Rate"
      ],
      "metadata": {
        "id": "a1sEYIdUNOIY"
      }
    },
    {
      "cell_type": "code",
      "source": [
        "learning_rate = 0\n",
        "j = 1\n",
        "lr_history = []\n",
        "for i in range (6):\n",
        "  while j >= 1:\n",
        "    n = n_sampling\n",
        "    input = n + 1\n",
        "    layer1 = input\n",
        "    output = 1\n",
        "    tf.random.set_seed(100)\n",
        "    #Ultilize Learning Rate\n",
        "    learning_rate = round(j * 10**-i,6)\n",
        "    epoch = 100\n",
        "    \n",
        "    #define Optimizer\n",
        "    adam = Adam(learning_rate=learning_rate, beta_1=0.9, beta_2=0.999, amsgrad=False)\n",
        "\n",
        "    # define model\n",
        "    model1 = Sequential()\n",
        "    model1.add(Dense(input, activation='relu', input_dim=n))\n",
        "    model1.add(Dense(layer1, activation='relu'))\n",
        "    model1.add(Dense(output, activation='linear'))\n",
        "    model1.compile(optimizer=adam, loss='mse')\n",
        "\n",
        "    # fit model\n",
        "    history = model1.fit(x_train, y_train, epochs=epoch, verbose=0)\n",
        "\n",
        "    #Collect Average Loss History\n",
        "    loss = history.history[\"loss\"]\n",
        "    loss = mean(loss)\n",
        "\n",
        "    #Calculate MSE for training\n",
        "    train_pred = model1.predict(x_train, verbose=0)\n",
        "    msetrain = mean_squared_error(y_train, train_pred)\n",
        "\n",
        "    #Calculate MSE for testing\n",
        "    test_pred = model1.predict(x_test, verbose=0)\n",
        "    msetest = mean_squared_error(y_test, test_pred)\n",
        "\n",
        "    #Store loss value into list\n",
        "    lr_history.append([learning_rate,loss,msetrain,msetest])\n",
        "\n",
        "    j -= 1\n",
        "  j = 9\n",
        "    "
      ],
      "metadata": {
        "id": "oTclVdbbNOn_"
      },
      "execution_count": null,
      "outputs": []
    },
    {
      "cell_type": "code",
      "source": [
        "# lr_history_model_inverted = scaler.inverse_transform(lr_history)\n",
        "# lr_history_model_inverted = pd.DataFrame(lr_history_model_inverted, columns = ['Learning Rate', 'Average Loss', 'MSE Train', 'MSE Test'])\n",
        "# lr_history_model = pd.DataFrame(lr_history, columns = ['Learning Rate', 'Average Loss', 'MSE Train', 'MSE Test'])\n",
        "# lr_history_model_inverted"
      ],
      "metadata": {
        "id": "mmcrRVfHHYaV"
      },
      "execution_count": null,
      "outputs": []
    },
    {
      "cell_type": "code",
      "source": [
        "lr_history_model = pd.DataFrame(lr_history, columns = ['Learning Rate', 'Average Loss', 'MSE Train', 'MSE Test'])\n",
        "\n",
        "#file name excel\n",
        "file_name = 'learning rate history v3 n_sampling=12 75 25 inverted.xlsx'\n",
        "\n",
        "#saving to excel\n",
        "lr_history_model_inverted.to_excel(file_name)\n",
        "print(\"DataFrame is written to Excel File successfully\")\n",
        "\n",
        "# data_history_model"
      ],
      "metadata": {
        "colab": {
          "base_uri": "https://localhost:8080/"
        },
        "id": "wEJ0lOvvQBu3",
        "outputId": "fc54ad79-7294-4557-df9c-935d15df5f23"
      },
      "execution_count": null,
      "outputs": [
        {
          "output_type": "stream",
          "name": "stdout",
          "text": [
            "DataFrame is written to Excel File successfully\n"
          ]
        }
      ]
    },
    {
      "cell_type": "code",
      "source": [
        "#The best Learning Rate for 75:25 is 0.007\n",
        "#The best Learning Rate for 50:50 is 0.008"
      ],
      "metadata": {
        "id": "LrmjBXTGN8z0"
      },
      "execution_count": null,
      "outputs": []
    },
    {
      "cell_type": "markdown",
      "source": [
        "# Epoch"
      ],
      "metadata": {
        "id": "V3S1noqLyIEo"
      }
    },
    {
      "cell_type": "code",
      "source": [
        "epoch_history = []\n",
        "for i in range(1000):\n",
        "  #define param\n",
        "  n = n_sampling\n",
        "  input = n + 1\n",
        "  layer1 = input\n",
        "  output = 1\n",
        "  learning_rate = 0.007\n",
        "  epoch = i+1\n",
        "  tf.random.set_seed(100)\n",
        "\n",
        "  #define Optimizer\n",
        "  adam = Adam(learning_rate=learning_rate, beta_1=0.9, beta_2=0.999, amsgrad=False)\n",
        "\n",
        "  # define model\n",
        "  model2 = Sequential()\n",
        "  model2.add(Dense(input, activation='relu', input_dim=n))\n",
        "  model2.add(Dense(layer1, activation='relu'))\n",
        "  model2.add(Dense(output, activation='linear'))\n",
        "  model2.compile(optimizer=adam, loss='mse')\n",
        "\n",
        "  # fit model \n",
        "  history = model2.fit(x_train, y_train, epochs=epoch, verbose=0)\n",
        "\n",
        "  #Collect Average Loss History\n",
        "  loss = history.history[\"loss\"]\n",
        "  loss = mean(loss)\n",
        "\n",
        "  #Calculate MSE for training\n",
        "  train_pred = model2.predict(x_train, verbose=0)\n",
        "  msetrain = mean_squared_error(y_train, train_pred)\n",
        "\n",
        "  #Calculate MSE for testing\n",
        "  test_pred = model2.predict(x_test, verbose=0)\n",
        "  msetest = mean_squared_error(y_test, test_pred)\n",
        "\n",
        "  #Store loss value into list\n",
        "  epoch_history.append([epoch,loss,msetrain,msetest])\n"
      ],
      "metadata": {
        "id": "i8YY_-Pbyi_G"
      },
      "execution_count": null,
      "outputs": []
    },
    {
      "cell_type": "code",
      "source": [
        "# epoch_history_model = pd.DataFrame(epoch_history, columns = ['Epoch', 'Average Loss', 'MSE Train', 'MSE Test'])\n",
        "\n",
        "# #file name excel\n",
        "# file_name = 'epoch history v3 n_sampling=12.xlsx'\n",
        "\n",
        "# #saving to excel\n",
        "# epoch_history_model.to_excel(file_name)\n",
        "# print(\"DataFrame is written to Excel File successfully\")\n",
        "\n",
        "# # data_history_model"
      ],
      "metadata": {
        "colab": {
          "base_uri": "https://localhost:8080/"
        },
        "id": "7w44YUCH2Y8h",
        "outputId": "68a34dee-4e83-40fe-c641-aff4c0df2e34"
      },
      "execution_count": null,
      "outputs": [
        {
          "output_type": "stream",
          "name": "stdout",
          "text": [
            "DataFrame is written to Excel File successfully\n"
          ]
        }
      ]
    },
    {
      "cell_type": "code",
      "source": [
        "#epoch for 75:25 is 90"
      ],
      "metadata": {
        "id": "6Xg8yF5GPf-K"
      },
      "execution_count": null,
      "outputs": []
    },
    {
      "cell_type": "markdown",
      "source": [
        "# 1 Hidden Layer"
      ],
      "metadata": {
        "id": "MuiEcLkEXsw9"
      }
    },
    {
      "cell_type": "code",
      "source": [
        "layer1_history = []\n",
        "for i in range(500):\n",
        "  #define param\n",
        "  n = n_sampling\n",
        "  input = n + 1\n",
        "  layer1 = i+1\n",
        "  output = 1\n",
        "  learning_rate = 0.007\n",
        "  epoch = 90\n",
        "  tf.random.set_seed(100)\n",
        "\n",
        "  #define Optimizer\n",
        "  adam = Adam(learning_rate=learning_rate, beta_1=0.9, beta_2=0.999, amsgrad=False)\n",
        "\n",
        "  # define model\n",
        "  model3 = Sequential()\n",
        "  model3.add(Dense(input, activation='relu', input_dim=n))\n",
        "  model3.add(Dense(layer1, activation='relu'))\n",
        "  model3.add(Dense(output, activation='linear'))\n",
        "  model3.compile(optimizer=adam, loss='mse')\n",
        "\n",
        "  # fit model \n",
        "  history = model3.fit(x_train, y_train, epochs=epoch, verbose=0)\n",
        "\n",
        "  #Calculate Average Loss\n",
        "  loss = history.history[\"loss\"]\n",
        "  loss = mean(loss)\n",
        "\n",
        "  #Calculate MSE for training\n",
        "  train_pred = model3.predict(x_train, verbose=0)\n",
        "  msetrain = mean_squared_error(y_train, train_pred)\n",
        "\n",
        "  #Calculate MSE for Testing\n",
        "  test_pred = model3.predict(x_test, verbose=0)\n",
        "  msetest = mean_squared_error(y_test, test_pred)\n",
        "\n",
        "  layer1_history.append([layer1,loss,msetrain,msetest])"
      ],
      "metadata": {
        "id": "s7e86Vzl-3Jg"
      },
      "execution_count": null,
      "outputs": []
    },
    {
      "cell_type": "code",
      "source": [
        "# layer1_history_model = pd.DataFrame(layer1_history, columns = ['Layer 1', 'Average Loss', 'MSE Train', 'MSE Test'])\n",
        "\n",
        "# #file name excel\n",
        "# file_name = 'layer 1 history V3 n_sampling=12 50-50.xlsx'\n",
        "\n",
        "# #saving to excel\n",
        "# layer1_history_model.to_excel(file_name)\n",
        "# print(\"DataFrame is written to Excel File successfully\")\n",
        "\n",
        "# # data_history_model"
      ],
      "metadata": {
        "colab": {
          "base_uri": "https://localhost:8080/"
        },
        "id": "5nGERtYdzHR5",
        "outputId": "28a976f1-04f4-4408-a280-bd12758fb63f"
      },
      "execution_count": null,
      "outputs": [
        {
          "output_type": "stream",
          "name": "stdout",
          "text": [
            "DataFrame is written to Excel File successfully\n"
          ]
        }
      ]
    },
    {
      "cell_type": "code",
      "source": [
        "#Layer 1 for 75 50 is 13"
      ],
      "metadata": {
        "id": "QpTdwfBIwu20"
      },
      "execution_count": null,
      "outputs": []
    },
    {
      "cell_type": "markdown",
      "source": [
        "# 2 Hidden Layer"
      ],
      "metadata": {
        "id": "5DJ1SgnluE1P"
      }
    },
    {
      "cell_type": "code",
      "source": [
        "layer2_history = []\n",
        "for i in range(500):\n",
        "  #define param\n",
        "  n = n_sampling\n",
        "  input = n + 1\n",
        "  layer1 = 13\n",
        "  layer2 = i+1\n",
        "  output = 1\n",
        "  learning_rate = 0.007\n",
        "  epoch = 90\n",
        "  tf.random.set_seed(100)\n",
        "\n",
        "  #define Optimizer\n",
        "  adam = Adam(learning_rate=learning_rate, beta_1=0.9, beta_2=0.999, amsgrad=False)\n",
        "\n",
        "  # define model\n",
        "  model4 = Sequential()\n",
        "  model4.add(Dense(input, activation='relu', input_dim=n))\n",
        "  model4.add(Dense(layer1, activation='relu'))\n",
        "  model4.add(Dense(layer2, activation='relu'))\n",
        "  model4.add(Dense(output, activation='linear'))\n",
        "  model4.compile(optimizer=adam, loss='mse')\n",
        "\n",
        "  # fit model \n",
        "  history = model4.fit(x_train, y_train, epochs=epoch, verbose=0)\n",
        "\n",
        "  #Calculate Average Loss\n",
        "  loss = history.history[\"loss\"]\n",
        "  loss = mean(loss)\n",
        "\n",
        "  #Calculate MSE for training\n",
        "  train_pred = model4.predict(x_train, verbose=0)\n",
        "  msetrain = mean_squared_error(y_train, train_pred)\n",
        "\n",
        "  #Calculate MSE for Testing\n",
        "  test_pred = model4.predict(x_test, verbose=0)\n",
        "  msetest = mean_squared_error(y_test, test_pred)\n",
        "\n",
        "  layer2_history.append([layer2,loss,msetrain,msetest])"
      ],
      "metadata": {
        "id": "UXwW4-sVuLwL"
      },
      "execution_count": null,
      "outputs": []
    },
    {
      "cell_type": "code",
      "source": [
        "# layer2_history_model = pd.DataFrame(layer2_history, columns = ['layer 2', 'average loss', 'MSE Train', 'MSE Test'])\n",
        "\n",
        "# #file name excel\n",
        "# file_name = 'layer 2 history v3 n_sampling=12 50-50.xlsx'\n",
        "\n",
        "# #saving to excel\n",
        "# layer2_history_model.to_excel(file_name)\n",
        "# print(\"DataFrame is written to Excel File successfully\")\n",
        "\n",
        "# # data_history_model"
      ],
      "metadata": {
        "colab": {
          "base_uri": "https://localhost:8080/"
        },
        "id": "blcU0TzJvHqF",
        "outputId": "4e493ead-907a-437f-eedc-d9f4980db9cb"
      },
      "execution_count": null,
      "outputs": [
        {
          "output_type": "stream",
          "name": "stdout",
          "text": [
            "DataFrame is written to Excel File successfully\n"
          ]
        }
      ]
    },
    {
      "cell_type": "code",
      "source": [
        "#Layer 2 for 75 50 is none"
      ],
      "metadata": {
        "id": "pITM3g3qxkuc"
      },
      "execution_count": null,
      "outputs": []
    },
    {
      "cell_type": "markdown",
      "source": [
        "# Combined"
      ],
      "metadata": {
        "id": "39XV5eZ-tWQN"
      }
    },
    {
      "cell_type": "markdown",
      "source": [
        "Training"
      ],
      "metadata": {
        "id": "I_pwhhdHX6dc"
      }
    },
    {
      "cell_type": "code",
      "source": [
        "#define param\n",
        "n = n_sampling\n",
        "input = n + 1\n",
        "layer1 = 13\n",
        "# layer2 = 39\n",
        "output = 1\n",
        "learning_rate = 0.007\n",
        "epoch = 90\n",
        "\n",
        "tf.random.set_seed(100)\n",
        "\n",
        "#define Optimizer\n",
        "adam = Adam(learning_rate=learning_rate, beta_1=0.9, beta_2=0.999, amsgrad=False)\n",
        "\n",
        "# define model\n",
        "model5 = Sequential()\n",
        "model5.add(Dense(input, activation='relu', input_dim=n))\n",
        "model5.add(Dense(layer1, activation='relu'))\n",
        "# model5.add(Dense(layer2, activation='relu'))\n",
        "model5.add(Dense(output, activation='linear'))\n",
        "model5.compile(optimizer=adam, loss='mse')\n",
        "\n",
        "# fit model \n",
        "history = model5.fit(x_train, y_train, epochs=epoch, verbose=0)"
      ],
      "metadata": {
        "id": "4TyuWFbn4OVy"
      },
      "execution_count": null,
      "outputs": []
    },
    {
      "cell_type": "code",
      "source": [
        "#alasan pilih parameter tersebut adalah mencari yang paling seimbang antara loss, volatilitas pada seluruh data, dan simplicity"
      ],
      "metadata": {
        "id": "fBJkOUPw09sX"
      },
      "execution_count": null,
      "outputs": []
    },
    {
      "cell_type": "code",
      "source": [
        "plt.plot(history.history['loss'])"
      ],
      "metadata": {
        "colab": {
          "base_uri": "https://localhost:8080/",
          "height": 283
        },
        "id": "rtFV8CnXta9D",
        "outputId": "abb9c261-bee2-4110-e7d4-055dd57f12df"
      },
      "execution_count": null,
      "outputs": [
        {
          "output_type": "execute_result",
          "data": {
            "text/plain": [
              "[<matplotlib.lines.Line2D at 0x7ff7a7fba890>]"
            ]
          },
          "metadata": {},
          "execution_count": 12
        },
        {
          "output_type": "display_data",
          "data": {
            "text/plain": [
              "<Figure size 432x288 with 1 Axes>"
            ],
            "image/png": "[encoded data removed]"
          },
          "metadata": {
            "needs_background": "light"
          }
        }
      ]
    },
    {
      "cell_type": "code",
      "source": [
        "# plot train model\n",
        "train_prediction = model5.predict(x_train, verbose=0)\n",
        "\n",
        "train_prediction = np.reshape(train_prediction, (train_prediction.shape[0]))\n",
        "\n",
        "Tanggal = data[:split].index.to_numpy()\n",
        "Tanggal = Tanggal[n_sampling:]\n",
        "\n",
        "#Plot test and prediction model\n",
        "y_PD =  pd.DataFrame(data={'Tanggal':Tanggal, 'y_train':y_train},   \n",
        "              index=Tanggal,    \n",
        "              columns=['Tanggal', 'y_train'])  \n",
        "\n",
        "train_prediction_PD = pd.DataFrame(data={'Tanggal':Tanggal, 'train_prediction':train_prediction},   \n",
        "              index=Tanggal,    \n",
        "              columns=['Tanggal', 'train_prediction']) \n",
        "\n",
        "Final_PD = pd.merge(y_PD, train_prediction_PD, on='Tanggal', how='left')\n",
        "\n",
        "Final_PD[['y_train','train_prediction']].plot()"
      ],
      "metadata": {
        "colab": {
          "base_uri": "https://localhost:8080/",
          "height": 283
        },
        "id": "4VJU6QEKygQo",
        "outputId": "4b6d530a-4231-4b48-c9bd-e1e8e37214b4"
      },
      "execution_count": null,
      "outputs": [
        {
          "output_type": "execute_result",
          "data": {
            "text/plain": [
              "<matplotlib.axes._subplots.AxesSubplot at 0x7ff7a6729a90>"
            ]
          },
          "metadata": {},
          "execution_count": 13
        },
        {
          "output_type": "display_data",
          "data": {
            "text/plain": [
              "<Figure size 432x288 with 1 Axes>"
            ],
            "image/png": "[encoded data removed]"
          },
          "metadata": {
            "needs_background": "light"
          }
        }
      ]
    },
    {
      "cell_type": "code",
      "source": [
        "# Final_PD.index = pd.to_datetime(Final_PD.Tanggal)\n",
        "# Final_PD.drop([\"Tanggal\"], axis=1, inplace=True)\n",
        "\n",
        "# Final_PD_inv = scaler.inverse_transform(Final_PD)\n",
        "# Final_PD_model = pd.DataFrame(Final_PD_inv, columns = ['y_train','train_prediction'])\n",
        "\n",
        "# Final_PD_model.to_excel('Training Result v3 n_sampling=12.xlsx')"
      ],
      "metadata": {
        "id": "jemSWqrVzxeV"
      },
      "execution_count": null,
      "outputs": []
    },
    {
      "cell_type": "code",
      "source": [
        "y_PD.drop([\"Tanggal\"], axis=1, inplace=True)\n",
        "train_prediction_PD.drop([\"Tanggal\"], axis=1, inplace=True)\n",
        "\n",
        "y_PD_arr = y_PD.to_numpy()\n",
        "y_prediction_PD_arr = train_prediction_PD.to_numpy()"
      ],
      "metadata": {
        "id": "vN1cM1cGXHGh"
      },
      "execution_count": null,
      "outputs": []
    },
    {
      "cell_type": "code",
      "source": [
        "mse = mean_squared_error(y_PD_arr, y_prediction_PD_arr)\n",
        "print(\"Akurasi\", (1-mse))\n",
        "print(\"MSE: \", mse)"
      ],
      "metadata": {
        "colab": {
          "base_uri": "https://localhost:8080/"
        },
        "outputId": "e44224ad-698c-4742-848b-9416831a088f",
        "id": "ms-prLsGXLHB"
      },
      "execution_count": null,
      "outputs": [
        {
          "output_type": "stream",
          "name": "stdout",
          "text": [
            "Akurasi 0.9997861636327366\n",
            "MSE:  0.00021383636726334524\n"
          ]
        }
      ]
    },
    {
      "cell_type": "code",
      "source": [
        "#Train 75 25 MSE=0.008317363447995996"
      ],
      "metadata": {
        "id": "uRdFqVQlyEig"
      },
      "execution_count": null,
      "outputs": []
    },
    {
      "cell_type": "markdown",
      "source": [
        "Testing"
      ],
      "metadata": {
        "id": "6d1uSJO8YSJJ"
      }
    },
    {
      "cell_type": "code",
      "source": [
        "# test model\n",
        "y_prediction = model5.predict(x_test, verbose=0)\n",
        "\n",
        "y_prediction = np.reshape(y_prediction, (y_prediction.shape[0]))\n",
        "\n",
        "Tanggal = data[split:].index.to_numpy()\n",
        "Tanggal = Tanggal[n_sampling:]\n",
        "\n",
        "#Plot test and prediction model\n",
        "y_PD =  pd.DataFrame(data={'Tanggal':Tanggal, 'y_test':y_test},   \n",
        "              index=Tanggal,    \n",
        "              columns=['Tanggal', 'y_test'])  \n",
        "\n",
        "y_prediction_PD = pd.DataFrame(data={'Tanggal':Tanggal, 'y_prediction':y_prediction},   \n",
        "              index=Tanggal,    \n",
        "              columns=['Tanggal', 'y_prediction']) \n",
        "\n",
        "Final_PD = pd.merge(y_PD, y_prediction_PD, on='Tanggal', how='left')\n",
        "\n",
        "Final_PD[['y_test','y_prediction']].plot()"
      ],
      "metadata": {
        "colab": {
          "base_uri": "https://localhost:8080/",
          "height": 283
        },
        "id": "yenzPsDUYJOL",
        "outputId": "0be2130e-e7d5-4a08-98cf-ff8a976c70fb"
      },
      "execution_count": null,
      "outputs": [
        {
          "output_type": "execute_result",
          "data": {
            "text/plain": [
              "<matplotlib.axes._subplots.AxesSubplot at 0x7ff7a7ec61d0>"
            ]
          },
          "metadata": {},
          "execution_count": 16
        },
        {
          "output_type": "display_data",
          "data": {
            "text/plain": [
              "<Figure size 432x288 with 1 Axes>"
            ],
            "image/png": "[encoded data removed]"
          },
          "metadata": {
            "needs_background": "light"
          }
        }
      ]
    },
    {
      "cell_type": "code",
      "source": [
        "# Final_PD.index = pd.to_datetime(Final_PD.Tanggal)\n",
        "# Final_PD.drop([\"Tanggal\"], axis=1, inplace=True)\n",
        "\n",
        "# Final_PD_inv = scaler.inverse_transform(Final_PD)\n",
        "# Final_PD_model = pd.DataFrame(Final_PD_inv, columns = ['y_test','y_prediction'])\n",
        "\n",
        "# Final_PD_model.to_excel('Prediction Result v3 n_sampling=12.xlsx')"
      ],
      "metadata": {
        "id": "73iO2sVDmnY8"
      },
      "execution_count": null,
      "outputs": []
    },
    {
      "cell_type": "markdown",
      "source": [
        "Mean Square Error"
      ],
      "metadata": {
        "id": "iM4oT15IZpIH"
      }
    },
    {
      "cell_type": "code",
      "source": [
        "y_PD.drop([\"Tanggal\"], axis=1, inplace=True)\n",
        "y_prediction_PD.drop([\"Tanggal\"], axis=1, inplace=True)\n",
        "\n",
        "y_PD_arr = y_PD.to_numpy()\n",
        "y_prediction_PD_arr = y_prediction_PD.to_numpy()"
      ],
      "metadata": {
        "id": "9ZTXrx-_YUFy"
      },
      "execution_count": null,
      "outputs": []
    },
    {
      "cell_type": "code",
      "source": [
        "mse = mean_squared_error(y_PD_arr, y_prediction_PD_arr)\n",
        "print(\"Akurasi\", (1-mse))\n",
        "print(\"MSE: \", mse)"
      ],
      "metadata": {
        "colab": {
          "base_uri": "https://localhost:8080/"
        },
        "id": "U7pX7_H_aZow",
        "outputId": "2235509e-4ffc-42d5-d85f-b94bd89c28e5"
      },
      "execution_count": null,
      "outputs": [
        {
          "output_type": "stream",
          "name": "stdout",
          "text": [
            "Akurasi 0.9714778054598179\n",
            "MSE:  0.02852219454018217\n"
          ]
        }
      ]
    },
    {
      "cell_type": "code",
      "source": [
        "#Test 75 25 MSE=0.004293925384576116"
      ],
      "metadata": {
        "id": "S9CKLVTXyQUY"
      },
      "execution_count": null,
      "outputs": []
    },
    {
      "cell_type": "markdown",
      "source": [
        "Export Final Model"
      ],
      "metadata": {
        "id": "G28f5B63vybA"
      }
    },
    {
      "cell_type": "code",
      "source": [
        "# #Saving Model\n",
        "# model5.save('BBRI M V3 13 0.007 90 mse=0.004294')\n",
        "\n",
        "# #Load Model\n",
        "# # model = keras.models.load_model('path/to/location')"
      ],
      "metadata": {
        "colab": {
          "base_uri": "https://localhost:8080/"
        },
        "id": "2wPbBQp922Rx",
        "outputId": "b9fc1bc7-cd13-4ae5-bd57-ef9bcb52370a"
      },
      "execution_count": null,
      "outputs": [
        {
          "output_type": "stream",
          "name": "stdout",
          "text": [
            "INFO:tensorflow:Assets written to: BBRI M 60 0.005 50 mse=0.004772/assets\n"
          ]
        }
      ]
    },
    {
      "cell_type": "code",
      "source": [
        "# #export model using pickel\n",
        "# import pickle\n",
        "\n",
        "# #save model to disk\n",
        "# filename = 'BBRI M V3 7 0.008 114 mse=0.00792 50 50.sav'\n",
        "# pickle.dump(model5, open(filename, 'wb'))\n",
        "\n",
        "# # load the model from disk\n",
        "# # loaded_model = pickle.load(open(filename, 'rb'))\n",
        "# # result = loaded_model.score(X_test, Y_test)\n",
        "# # print(result)"
      ],
      "metadata": {
        "id": "usUOqwj97UM0",
        "colab": {
          "base_uri": "https://localhost:8080/"
        },
        "outputId": "85f77367-a1af-4cc4-a208-7a3f7f4deaee"
      },
      "execution_count": null,
      "outputs": [
        {
          "output_type": "stream",
          "name": "stdout",
          "text": [
            "INFO:tensorflow:Assets written to: ram://785fcc31-17e4-4bfc-a1df-e2560fb4f54f/assets\n"
          ]
        }
      ]
    },
    {
      "cell_type": "code",
      "source": [
        "# #export model using joblib\n",
        "# import joblib\n",
        "\n",
        "# # save the model to disk\n",
        "# # filename = 'finalized_model.sav'\n",
        "# # joblib.dump(model, filename)\n",
        "\n",
        "# # load the model from disk\n",
        "# model_name = 'BBRI M 8 0.008 161 loss=0.00609.sav'\n",
        "# loaded_model = joblib.load(model_name)\n",
        "# # result = loaded_model.predict(x_test, y_test)\n",
        "# # print(result)"
      ],
      "metadata": {
        "id": "121qGMRPyKv3"
      },
      "execution_count": null,
      "outputs": []
    },
    {
      "cell_type": "code",
      "source": [
        "# loaded_model.weights"
      ],
      "metadata": {
        "colab": {
          "base_uri": "https://localhost:8080/"
        },
        "id": "q-U-t5TJTOuq",
        "outputId": "52b2895a-8eaf-4e1c-9e39-607c5d359558"
      },
      "execution_count": null,
      "outputs": [
        {
          "output_type": "execute_result",
          "data": {
            "text/plain": [
              "[<tf.Variable 'dense_13/kernel:0' shape=(5, 6) dtype=float32, numpy=\n",
              " array([[ 0.4728928 , -0.20804167, -0.8398208 , -0.6216376 ,  0.24435224,\n",
              "          0.18924084],\n",
              "        [ 0.1258476 , -0.82959116, -0.26968738, -0.5856874 ,  1.1913812 ,\n",
              "         -0.5835206 ],\n",
              "        [ 0.23100875, -0.22577332,  0.80493826,  0.0448702 , -0.10766881,\n",
              "          0.72420526],\n",
              "        [ 0.37208772,  0.36150286,  0.10642855, -0.5134552 ,  0.21437846,\n",
              "         -0.09376506],\n",
              "        [ 0.6509784 , -0.6006384 , -0.47103286, -0.35389954,  0.3349238 ,\n",
              "          0.4597595 ]], dtype=float32)>,\n",
              " <tf.Variable 'dense_13/bias:0' shape=(6,) dtype=float32, numpy=\n",
              " array([-0.03140027, -0.10985053, -0.1374046 ,  0.        , -0.09625794,\n",
              "         0.07550149], dtype=float32)>,\n",
              " <tf.Variable 'dense_14/kernel:0' shape=(6, 8) dtype=float32, numpy=\n",
              " array([[-0.13460448,  0.21763717,  0.7874137 , -0.2642669 , -0.66650474,\n",
              "         -0.41222557,  0.4523649 ,  0.19247651],\n",
              "        [ 0.21431172, -0.05113324,  0.46321395,  0.03421104,  0.5129069 ,\n",
              "         -0.11153668,  0.10324933, -0.3042266 ],\n",
              "        [ 0.13993661, -0.48335475, -0.60477793,  0.48967516, -0.39294603,\n",
              "          0.00635344,  0.63716215,  0.7432383 ],\n",
              "        [ 0.17530477, -0.27561623,  0.37396538,  0.265047  ,  0.26593667,\n",
              "          0.6217871 ,  0.33461022,  0.14416134],\n",
              "        [ 0.4332421 ,  0.7996755 , -0.29005474, -0.4296096 ,  0.15950564,\n",
              "          0.41089046, -0.28273055, -0.33490595],\n",
              "        [-0.207901  , -0.1596254 ,  0.19927962, -0.1350744 ,  0.10154296,\n",
              "         -0.7756406 ,  0.5603216 , -0.2919061 ]], dtype=float32)>,\n",
              " <tf.Variable 'dense_14/bias:0' shape=(8,) dtype=float32, numpy=\n",
              " array([-0.08475187,  0.02273816, -0.20858654, -0.04999053, -0.02658438,\n",
              "         0.03523261,  0.06279568,  0.00229108], dtype=float32)>,\n",
              " <tf.Variable 'dense_15/kernel:0' shape=(8, 1) dtype=float32, numpy=\n",
              " array([[-0.09107691],\n",
              "        [ 0.4464976 ],\n",
              "        [-0.42946848],\n",
              "        [-0.6576273 ],\n",
              "        [ 0.51824594],\n",
              "        [-1.0751126 ],\n",
              "        [ 0.06448111],\n",
              "        [ 0.20252404]], dtype=float32)>,\n",
              " <tf.Variable 'dense_15/bias:0' shape=(1,) dtype=float32, numpy=array([0.07079925], dtype=float32)>]"
            ]
          },
          "metadata": {},
          "execution_count": 24
        }
      ]
    }
  ]
}