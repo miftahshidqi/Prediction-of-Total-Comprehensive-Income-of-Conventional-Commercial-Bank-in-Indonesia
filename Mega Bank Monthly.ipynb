{
  "nbformat": 4,
  "nbformat_minor": 0,
  "metadata": {
    "colab": {
      "name": "MEGA_M.ipynb",
      "provenance": [],
      "collapsed_sections": []
    },
    "kernelspec": {
      "name": "python3",
      "display_name": "Python 3"
    },
    "language_info": {
      "name": "python"
    }
  },
  "cells": [
    {
      "cell_type": "code",
      "execution_count": null,
      "metadata": {
        "id": "dhXwZ-7w5Txe"
      },
      "outputs": [],
      "source": [
        "import numpy as np\n",
        "import pandas as pd\n",
        "from tensorflow import keras\n",
        "from keras.models import Sequential\n",
        "from keras.layers import Dense\n",
        "import tensorflow as tf\n",
        "from tensorflow.keras.optimizers import Adam \n",
        "from sklearn.metrics import mean_squared_error\n",
        "from sklearn.preprocessing import MinMaxScaler\n",
        "import math\n",
        "import matplotlib.pyplot as plt\n",
        "from statistics import mean"
      ]
    },
    {
      "cell_type": "code",
      "source": [
        "# #Load Dataset MEGA M\n",
        "# from google.colab import drive\n",
        "# %cd /content/drive/MyDrive/Dataset_TA/MEGA/Monthly\n",
        "# %ls"
      ],
      "metadata": {
        "colab": {
          "base_uri": "https://localhost:8080/"
        },
        "id": "PR06IDkk6i7Z",
        "outputId": "bb41f540-a5e1-492c-a725-0b7d11e66c40"
      },
      "execution_count": null,
      "outputs": [
        {
          "output_type": "stream",
          "name": "stdout",
          "text": [
            "[Errno 2] No such file or directory: '/content/drive/MyDrive/Dataset_TA/MEGA/Monthly'\n",
            "/content\n",
            "'MEGA M.csv'   \u001b[0m\u001b[01;34msample_data\u001b[0m/\n"
          ]
        }
      ]
    },
    {
      "cell_type": "code",
      "source": [
        "# %ls /content/drive/MyDrive/Dataset_TA/MEGA"
      ],
      "metadata": {
        "colab": {
          "base_uri": "https://localhost:8080/"
        },
        "id": "6Cs5FYgR2ELr",
        "outputId": "1f0c3158-70b0-4486-a0cc-cb0e74df9665"
      },
      "execution_count": null,
      "outputs": [
        {
          "output_type": "stream",
          "name": "stdout",
          "text": [
            "ls: cannot access '/content/drive/MyDrive/Dataset_TA/MEGA': No such file or directory\n"
          ]
        }
      ]
    },
    {
      "cell_type": "code",
      "source": [
        "data = pd.read_csv('MEGA M.csv')\n",
        "data"
      ],
      "metadata": {
        "id": "Ah8oPXWT9EvC",
        "colab": {
          "base_uri": "https://localhost:8080/",
          "height": 424
        },
        "outputId": "c6385e83-b38c-478e-b168-0fa003d927f9"
      },
      "execution_count": null,
      "outputs": [
        {
          "output_type": "execute_result",
          "data": {
            "text/plain": [
              "            Tanggal  Laba Rugi\n",
              "0      January 2011      55761\n",
              "1     February 2011     134001\n",
              "2        March 2011     241886\n",
              "3        April 2011     318652\n",
              "4          May 2011     386858\n",
              "..              ...        ...\n",
              "127     August 2021    2127526\n",
              "128  September 2021    2196985\n",
              "129    October 2021    2489114\n",
              "130   November 2021    2786330\n",
              "131   December 2021    3036314\n",
              "\n",
              "[132 rows x 2 columns]"
            ],
            "text/html": [
              "\n",
              "  <div id=\"df-59612a11-079a-41d0-8231-de38400e9c33\">\n",
              "    <div class=\"colab-df-container\">\n",
              "      <div>\n",
              "<style scoped>\n",
              "    .dataframe tbody tr th:only-of-type {\n",
              "        vertical-align: middle;\n",
              "    }\n",
              "\n",
              "    .dataframe tbody tr th {\n",
              "        vertical-align: top;\n",
              "    }\n",
              "\n",
              "    .dataframe thead th {\n",
              "        text-align: right;\n",
              "    }\n",
              "</style>\n",
              "<table border=\"1\" class=\"dataframe\">\n",
              "  <thead>\n",
              "    <tr style=\"text-align: right;\">\n",
              "      <th></th>\n",
              "      <th>Tanggal</th>\n",
              "      <th>Laba Rugi</th>\n",
              "    </tr>\n",
              "  </thead>\n",
              "  <tbody>\n",
              "    <tr>\n",
              "      <th>0</th>\n",
              "      <td>January 2011</td>\n",
              "      <td>55761</td>\n",
              "    </tr>\n",
              "    <tr>\n",
              "      <th>1</th>\n",
              "      <td>February 2011</td>\n",
              "      <td>134001</td>\n",
              "    </tr>\n",
              "    <tr>\n",
              "      <th>2</th>\n",
              "      <td>March 2011</td>\n",
              "      <td>241886</td>\n",
              "    </tr>\n",
              "    <tr>\n",
              "      <th>3</th>\n",
              "      <td>April 2011</td>\n",
              "      <td>318652</td>\n",
              "    </tr>\n",
              "    <tr>\n",
              "      <th>4</th>\n",
              "      <td>May 2011</td>\n",
              "      <td>386858</td>\n",
              "    </tr>\n",
              "    <tr>\n",
              "      <th>...</th>\n",
              "      <td>...</td>\n",
              "      <td>...</td>\n",
              "    </tr>\n",
              "    <tr>\n",
              "      <th>127</th>\n",
              "      <td>August 2021</td>\n",
              "      <td>2127526</td>\n",
              "    </tr>\n",
              "    <tr>\n",
              "      <th>128</th>\n",
              "      <td>September 2021</td>\n",
              "      <td>2196985</td>\n",
              "    </tr>\n",
              "    <tr>\n",
              "      <th>129</th>\n",
              "      <td>October 2021</td>\n",
              "      <td>2489114</td>\n",
              "    </tr>\n",
              "    <tr>\n",
              "      <th>130</th>\n",
              "      <td>November 2021</td>\n",
              "      <td>2786330</td>\n",
              "    </tr>\n",
              "    <tr>\n",
              "      <th>131</th>\n",
              "      <td>December 2021</td>\n",
              "      <td>3036314</td>\n",
              "    </tr>\n",
              "  </tbody>\n",
              "</table>\n",
              "<p>132 rows × 2 columns</p>\n",
              "</div>\n",
              "      <button class=\"colab-df-convert\" onclick=\"convertToInteractive('df-59612a11-079a-41d0-8231-de38400e9c33')\"\n",
              "              title=\"Convert this dataframe to an interactive table.\"\n",
              "              style=\"display:none;\">\n",
              "        \n",
              "  <svg xmlns=\"http://www.w3.org/2000/svg\" height=\"24px\"viewBox=\"0 0 24 24\"\n",
              "       width=\"24px\">\n",
              "    <path d=\"M0 0h24v24H0V0z\" fill=\"none\"/>\n",
              "    <path d=\"M18.56 5.44l.94 2.06.94-2.06 2.06-.94-2.06-.94-.94-2.06-.94 2.06-2.06.94zm-11 1L8.5 8.5l.94-2.06 2.06-.94-2.06-.94L8.5 2.5l-.94 2.06-2.06.94zm10 10l.94 2.06.94-2.06 2.06-.94-2.06-.94-.94-2.06-.94 2.06-2.06.94z\"/><path d=\"M17.41 7.96l-1.37-1.37c-.4-.4-.92-.59-1.43-.59-.52 0-1.04.2-1.43.59L10.3 9.45l-7.72 7.72c-.78.78-.78 2.05 0 2.83L4 21.41c.39.39.9.59 1.41.59.51 0 1.02-.2 1.41-.59l7.78-7.78 2.81-2.81c.8-.78.8-2.07 0-2.86zM5.41 20L4 18.59l7.72-7.72 1.47 1.35L5.41 20z\"/>\n",
              "  </svg>\n",
              "      </button>\n",
              "      \n",
              "  <style>\n",
              "    .colab-df-container {\n",
              "      display:flex;\n",
              "      flex-wrap:wrap;\n",
              "      gap: 12px;\n",
              "    }\n",
              "\n",
              "    .colab-df-convert {\n",
              "      background-color: #E8F0FE;\n",
              "      border: none;\n",
              "      border-radius: 50%;\n",
              "      cursor: pointer;\n",
              "      display: none;\n",
              "      fill: #1967D2;\n",
              "      height: 32px;\n",
              "      padding: 0 0 0 0;\n",
              "      width: 32px;\n",
              "    }\n",
              "\n",
              "    .colab-df-convert:hover {\n",
              "      background-color: #E2EBFA;\n",
              "      box-shadow: 0px 1px 2px rgba(60, 64, 67, 0.3), 0px 1px 3px 1px rgba(60, 64, 67, 0.15);\n",
              "      fill: #174EA6;\n",
              "    }\n",
              "\n",
              "    [theme=dark] .colab-df-convert {\n",
              "      background-color: #3B4455;\n",
              "      fill: #D2E3FC;\n",
              "    }\n",
              "\n",
              "    [theme=dark] .colab-df-convert:hover {\n",
              "      background-color: #434B5C;\n",
              "      box-shadow: 0px 1px 3px 1px rgba(0, 0, 0, 0.15);\n",
              "      filter: drop-shadow(0px 1px 2px rgba(0, 0, 0, 0.3));\n",
              "      fill: #FFFFFF;\n",
              "    }\n",
              "  </style>\n",
              "\n",
              "      <script>\n",
              "        const buttonEl =\n",
              "          document.querySelector('#df-59612a11-079a-41d0-8231-de38400e9c33 button.colab-df-convert');\n",
              "        buttonEl.style.display =\n",
              "          google.colab.kernel.accessAllowed ? 'block' : 'none';\n",
              "\n",
              "        async function convertToInteractive(key) {\n",
              "          const element = document.querySelector('#df-59612a11-079a-41d0-8231-de38400e9c33');\n",
              "          const dataTable =\n",
              "            await google.colab.kernel.invokeFunction('convertToInteractive',\n",
              "                                                     [key], {});\n",
              "          if (!dataTable) return;\n",
              "\n",
              "          const docLinkHtml = 'Like what you see? Visit the ' +\n",
              "            '<a target=\"_blank\" href=https://colab.research.google.com/notebooks/data_table.ipynb>data table notebook</a>'\n",
              "            + ' to learn more about interactive tables.';\n",
              "          element.innerHTML = '';\n",
              "          dataTable['output_type'] = 'display_data';\n",
              "          await google.colab.output.renderOutput(dataTable, element);\n",
              "          const docLink = document.createElement('div');\n",
              "          docLink.innerHTML = docLinkHtml;\n",
              "          element.appendChild(docLink);\n",
              "        }\n",
              "      </script>\n",
              "    </div>\n",
              "  </div>\n",
              "  "
            ]
          },
          "metadata": {},
          "execution_count": 2
        }
      ]
    },
    {
      "cell_type": "markdown",
      "source": [
        "# Preprocessing"
      ],
      "metadata": {
        "id": "-ubzaqld9945"
      }
    },
    {
      "cell_type": "code",
      "source": [
        "def transform(data):\n",
        "  j = 0\n",
        "  k = j + 11\n",
        "  while k <= len(data):\n",
        "    l = k\n",
        "    while l != j :\n",
        "      a = data[\"Laba Rugi\"][l] - data[\"Laba Rugi\"][l-1]\n",
        "      data[\"Laba Rugi\"][l] = a\n",
        "      l -= 1\n",
        "    j = k + 1\n",
        "    k = j + 11\n",
        "    \n",
        "  return data\n",
        "\n",
        "data = transform(data)\n",
        "data"
      ],
      "metadata": {
        "colab": {
          "base_uri": "https://localhost:8080/"
        },
        "id": "uNoStwyX6MbC",
        "outputId": "b6fd64c1-fab0-4a6b-f542-1b4cf403b4d3"
      },
      "execution_count": null,
      "outputs": [
        {
          "output_type": "stream",
          "name": "stderr",
          "text": [
            "/usr/local/lib/python3.7/dist-packages/ipykernel_launcher.py:8: SettingWithCopyWarning: \n",
            "A value is trying to be set on a copy of a slice from a DataFrame\n",
            "\n",
            "See the caveats in the documentation: https://pandas.pydata.org/pandas-docs/stable/user_guide/indexing.html#returning-a-view-versus-a-copy\n",
            "  \n"
          ]
        },
        {
          "output_type": "execute_result",
          "data": {
            "text/plain": [
              "            Tanggal  Laba Rugi\n",
              "0      January 2011      55761\n",
              "1     February 2011      78240\n",
              "2        March 2011     107885\n",
              "3        April 2011      76766\n",
              "4          May 2011      68206\n",
              "..              ...        ...\n",
              "127     August 2021     534335\n",
              "128  September 2021      69459\n",
              "129    October 2021     292129\n",
              "130   November 2021     297216\n",
              "131   December 2021     249984\n",
              "\n",
              "[132 rows x 2 columns]"
            ],
            "text/html": [
              "\n",
              "  <div id=\"df-91d07d75-75fb-445c-8a96-337315a85e1f\">\n",
              "    <div class=\"colab-df-container\">\n",
              "      <div>\n",
              "<style scoped>\n",
              "    .dataframe tbody tr th:only-of-type {\n",
              "        vertical-align: middle;\n",
              "    }\n",
              "\n",
              "    .dataframe tbody tr th {\n",
              "        vertical-align: top;\n",
              "    }\n",
              "\n",
              "    .dataframe thead th {\n",
              "        text-align: right;\n",
              "    }\n",
              "</style>\n",
              "<table border=\"1\" class=\"dataframe\">\n",
              "  <thead>\n",
              "    <tr style=\"text-align: right;\">\n",
              "      <th></th>\n",
              "      <th>Tanggal</th>\n",
              "      <th>Laba Rugi</th>\n",
              "    </tr>\n",
              "  </thead>\n",
              "  <tbody>\n",
              "    <tr>\n",
              "      <th>0</th>\n",
              "      <td>January 2011</td>\n",
              "      <td>55761</td>\n",
              "    </tr>\n",
              "    <tr>\n",
              "      <th>1</th>\n",
              "      <td>February 2011</td>\n",
              "      <td>78240</td>\n",
              "    </tr>\n",
              "    <tr>\n",
              "      <th>2</th>\n",
              "      <td>March 2011</td>\n",
              "      <td>107885</td>\n",
              "    </tr>\n",
              "    <tr>\n",
              "      <th>3</th>\n",
              "      <td>April 2011</td>\n",
              "      <td>76766</td>\n",
              "    </tr>\n",
              "    <tr>\n",
              "      <th>4</th>\n",
              "      <td>May 2011</td>\n",
              "      <td>68206</td>\n",
              "    </tr>\n",
              "    <tr>\n",
              "      <th>...</th>\n",
              "      <td>...</td>\n",
              "      <td>...</td>\n",
              "    </tr>\n",
              "    <tr>\n",
              "      <th>127</th>\n",
              "      <td>August 2021</td>\n",
              "      <td>534335</td>\n",
              "    </tr>\n",
              "    <tr>\n",
              "      <th>128</th>\n",
              "      <td>September 2021</td>\n",
              "      <td>69459</td>\n",
              "    </tr>\n",
              "    <tr>\n",
              "      <th>129</th>\n",
              "      <td>October 2021</td>\n",
              "      <td>292129</td>\n",
              "    </tr>\n",
              "    <tr>\n",
              "      <th>130</th>\n",
              "      <td>November 2021</td>\n",
              "      <td>297216</td>\n",
              "    </tr>\n",
              "    <tr>\n",
              "      <th>131</th>\n",
              "      <td>December 2021</td>\n",
              "      <td>249984</td>\n",
              "    </tr>\n",
              "  </tbody>\n",
              "</table>\n",
              "<p>132 rows × 2 columns</p>\n",
              "</div>\n",
              "      <button class=\"colab-df-convert\" onclick=\"convertToInteractive('df-91d07d75-75fb-445c-8a96-337315a85e1f')\"\n",
              "              title=\"Convert this dataframe to an interactive table.\"\n",
              "              style=\"display:none;\">\n",
              "        \n",
              "  <svg xmlns=\"http://www.w3.org/2000/svg\" height=\"24px\"viewBox=\"0 0 24 24\"\n",
              "       width=\"24px\">\n",
              "    <path d=\"M0 0h24v24H0V0z\" fill=\"none\"/>\n",
              "    <path d=\"M18.56 5.44l.94 2.06.94-2.06 2.06-.94-2.06-.94-.94-2.06-.94 2.06-2.06.94zm-11 1L8.5 8.5l.94-2.06 2.06-.94-2.06-.94L8.5 2.5l-.94 2.06-2.06.94zm10 10l.94 2.06.94-2.06 2.06-.94-2.06-.94-.94-2.06-.94 2.06-2.06.94z\"/><path d=\"M17.41 7.96l-1.37-1.37c-.4-.4-.92-.59-1.43-.59-.52 0-1.04.2-1.43.59L10.3 9.45l-7.72 7.72c-.78.78-.78 2.05 0 2.83L4 21.41c.39.39.9.59 1.41.59.51 0 1.02-.2 1.41-.59l7.78-7.78 2.81-2.81c.8-.78.8-2.07 0-2.86zM5.41 20L4 18.59l7.72-7.72 1.47 1.35L5.41 20z\"/>\n",
              "  </svg>\n",
              "      </button>\n",
              "      \n",
              "  <style>\n",
              "    .colab-df-container {\n",
              "      display:flex;\n",
              "      flex-wrap:wrap;\n",
              "      gap: 12px;\n",
              "    }\n",
              "\n",
              "    .colab-df-convert {\n",
              "      background-color: #E8F0FE;\n",
              "      border: none;\n",
              "      border-radius: 50%;\n",
              "      cursor: pointer;\n",
              "      display: none;\n",
              "      fill: #1967D2;\n",
              "      height: 32px;\n",
              "      padding: 0 0 0 0;\n",
              "      width: 32px;\n",
              "    }\n",
              "\n",
              "    .colab-df-convert:hover {\n",
              "      background-color: #E2EBFA;\n",
              "      box-shadow: 0px 1px 2px rgba(60, 64, 67, 0.3), 0px 1px 3px 1px rgba(60, 64, 67, 0.15);\n",
              "      fill: #174EA6;\n",
              "    }\n",
              "\n",
              "    [theme=dark] .colab-df-convert {\n",
              "      background-color: #3B4455;\n",
              "      fill: #D2E3FC;\n",
              "    }\n",
              "\n",
              "    [theme=dark] .colab-df-convert:hover {\n",
              "      background-color: #434B5C;\n",
              "      box-shadow: 0px 1px 3px 1px rgba(0, 0, 0, 0.15);\n",
              "      filter: drop-shadow(0px 1px 2px rgba(0, 0, 0, 0.3));\n",
              "      fill: #FFFFFF;\n",
              "    }\n",
              "  </style>\n",
              "\n",
              "      <script>\n",
              "        const buttonEl =\n",
              "          document.querySelector('#df-91d07d75-75fb-445c-8a96-337315a85e1f button.colab-df-convert');\n",
              "        buttonEl.style.display =\n",
              "          google.colab.kernel.accessAllowed ? 'block' : 'none';\n",
              "\n",
              "        async function convertToInteractive(key) {\n",
              "          const element = document.querySelector('#df-91d07d75-75fb-445c-8a96-337315a85e1f');\n",
              "          const dataTable =\n",
              "            await google.colab.kernel.invokeFunction('convertToInteractive',\n",
              "                                                     [key], {});\n",
              "          if (!dataTable) return;\n",
              "\n",
              "          const docLinkHtml = 'Like what you see? Visit the ' +\n",
              "            '<a target=\"_blank\" href=https://colab.research.google.com/notebooks/data_table.ipynb>data table notebook</a>'\n",
              "            + ' to learn more about interactive tables.';\n",
              "          element.innerHTML = '';\n",
              "          dataTable['output_type'] = 'display_data';\n",
              "          await google.colab.output.renderOutput(dataTable, element);\n",
              "          const docLink = document.createElement('div');\n",
              "          docLink.innerHTML = docLinkHtml;\n",
              "          element.appendChild(docLink);\n",
              "        }\n",
              "      </script>\n",
              "    </div>\n",
              "  </div>\n",
              "  "
            ]
          },
          "metadata": {},
          "execution_count": 3
        }
      ]
    },
    {
      "cell_type": "code",
      "source": [
        "# data.to_excel('transformed data BBRI M.xlsx')"
      ],
      "metadata": {
        "id": "qoWhruYMvMcw"
      },
      "execution_count": null,
      "outputs": []
    },
    {
      "cell_type": "code",
      "source": [
        "data.index = pd.to_datetime(data.Tanggal)\n",
        "data.drop([\"Tanggal\"], axis=1, inplace=True)\n",
        "data.plot(title=\"MEGA Monthly\", figsize=(10,5))"
      ],
      "metadata": {
        "colab": {
          "base_uri": "https://localhost:8080/"
        },
        "id": "Cbts0PMz-Aj5",
        "outputId": "829e284c-fd27-46c1-ec77-21af14f920ef"
      },
      "execution_count": null,
      "outputs": [
        {
          "output_type": "execute_result",
          "data": {
            "text/plain": [
              "<matplotlib.axes._subplots.AxesSubplot at 0x7f44280c1950>"
            ]
          },
          "metadata": {},
          "execution_count": 5
        },
        {
          "output_type": "display_data",
          "data": {
            "text/plain": [
              "<Figure size 720x360 with 1 Axes>"
            ],
            "image/png": "[encoded data removed]"
          },
          "metadata": {
            "needs_background": "light"
          }
        }
      ]
    },
    {
      "cell_type": "code",
      "source": [
        "scaler = MinMaxScaler()\n",
        "\n",
        "data[['Laba Rugi']] = scaler.fit_transform(data[['Laba Rugi']])\n",
        "data"
      ],
      "metadata": {
        "colab": {
          "base_uri": "https://localhost:8080/"
        },
        "id": "91dPqxpX-K-v",
        "outputId": "8b409e9a-9766-451d-e451-f587b3d798a6"
      },
      "execution_count": null,
      "outputs": [
        {
          "output_type": "execute_result",
          "data": {
            "text/plain": [
              "            Laba Rugi\n",
              "Tanggal              \n",
              "2011-01-01   0.425737\n",
              "2011-02-01   0.440666\n",
              "2011-03-01   0.460354\n",
              "2011-04-01   0.439687\n",
              "2011-05-01   0.434002\n",
              "...               ...\n",
              "2021-08-01   0.743565\n",
              "2021-09-01   0.434834\n",
              "2021-10-01   0.582713\n",
              "2021-11-01   0.586091\n",
              "2021-12-01   0.554724\n",
              "\n",
              "[132 rows x 1 columns]"
            ],
            "text/html": [
              "\n",
              "  <div id=\"df-48cacb2c-c439-42f3-9bce-f4a9c8d7ad8d\">\n",
              "    <div class=\"colab-df-container\">\n",
              "      <div>\n",
              "<style scoped>\n",
              "    .dataframe tbody tr th:only-of-type {\n",
              "        vertical-align: middle;\n",
              "    }\n",
              "\n",
              "    .dataframe tbody tr th {\n",
              "        vertical-align: top;\n",
              "    }\n",
              "\n",
              "    .dataframe thead th {\n",
              "        text-align: right;\n",
              "    }\n",
              "</style>\n",
              "<table border=\"1\" class=\"dataframe\">\n",
              "  <thead>\n",
              "    <tr style=\"text-align: right;\">\n",
              "      <th></th>\n",
              "      <th>Laba Rugi</th>\n",
              "    </tr>\n",
              "    <tr>\n",
              "      <th>Tanggal</th>\n",
              "      <th></th>\n",
              "    </tr>\n",
              "  </thead>\n",
              "  <tbody>\n",
              "    <tr>\n",
              "      <th>2011-01-01</th>\n",
              "      <td>0.425737</td>\n",
              "    </tr>\n",
              "    <tr>\n",
              "      <th>2011-02-01</th>\n",
              "      <td>0.440666</td>\n",
              "    </tr>\n",
              "    <tr>\n",
              "      <th>2011-03-01</th>\n",
              "      <td>0.460354</td>\n",
              "    </tr>\n",
              "    <tr>\n",
              "      <th>2011-04-01</th>\n",
              "      <td>0.439687</td>\n",
              "    </tr>\n",
              "    <tr>\n",
              "      <th>2011-05-01</th>\n",
              "      <td>0.434002</td>\n",
              "    </tr>\n",
              "    <tr>\n",
              "      <th>...</th>\n",
              "      <td>...</td>\n",
              "    </tr>\n",
              "    <tr>\n",
              "      <th>2021-08-01</th>\n",
              "      <td>0.743565</td>\n",
              "    </tr>\n",
              "    <tr>\n",
              "      <th>2021-09-01</th>\n",
              "      <td>0.434834</td>\n",
              "    </tr>\n",
              "    <tr>\n",
              "      <th>2021-10-01</th>\n",
              "      <td>0.582713</td>\n",
              "    </tr>\n",
              "    <tr>\n",
              "      <th>2021-11-01</th>\n",
              "      <td>0.586091</td>\n",
              "    </tr>\n",
              "    <tr>\n",
              "      <th>2021-12-01</th>\n",
              "      <td>0.554724</td>\n",
              "    </tr>\n",
              "  </tbody>\n",
              "</table>\n",
              "<p>132 rows × 1 columns</p>\n",
              "</div>\n",
              "      <button class=\"colab-df-convert\" onclick=\"convertToInteractive('df-48cacb2c-c439-42f3-9bce-f4a9c8d7ad8d')\"\n",
              "              title=\"Convert this dataframe to an interactive table.\"\n",
              "              style=\"display:none;\">\n",
              "        \n",
              "  <svg xmlns=\"http://www.w3.org/2000/svg\" height=\"24px\"viewBox=\"0 0 24 24\"\n",
              "       width=\"24px\">\n",
              "    <path d=\"M0 0h24v24H0V0z\" fill=\"none\"/>\n",
              "    <path d=\"M18.56 5.44l.94 2.06.94-2.06 2.06-.94-2.06-.94-.94-2.06-.94 2.06-2.06.94zm-11 1L8.5 8.5l.94-2.06 2.06-.94-2.06-.94L8.5 2.5l-.94 2.06-2.06.94zm10 10l.94 2.06.94-2.06 2.06-.94-2.06-.94-.94-2.06-.94 2.06-2.06.94z\"/><path d=\"M17.41 7.96l-1.37-1.37c-.4-.4-.92-.59-1.43-.59-.52 0-1.04.2-1.43.59L10.3 9.45l-7.72 7.72c-.78.78-.78 2.05 0 2.83L4 21.41c.39.39.9.59 1.41.59.51 0 1.02-.2 1.41-.59l7.78-7.78 2.81-2.81c.8-.78.8-2.07 0-2.86zM5.41 20L4 18.59l7.72-7.72 1.47 1.35L5.41 20z\"/>\n",
              "  </svg>\n",
              "      </button>\n",
              "      \n",
              "  <style>\n",
              "    .colab-df-container {\n",
              "      display:flex;\n",
              "      flex-wrap:wrap;\n",
              "      gap: 12px;\n",
              "    }\n",
              "\n",
              "    .colab-df-convert {\n",
              "      background-color: #E8F0FE;\n",
              "      border: none;\n",
              "      border-radius: 50%;\n",
              "      cursor: pointer;\n",
              "      display: none;\n",
              "      fill: #1967D2;\n",
              "      height: 32px;\n",
              "      padding: 0 0 0 0;\n",
              "      width: 32px;\n",
              "    }\n",
              "\n",
              "    .colab-df-convert:hover {\n",
              "      background-color: #E2EBFA;\n",
              "      box-shadow: 0px 1px 2px rgba(60, 64, 67, 0.3), 0px 1px 3px 1px rgba(60, 64, 67, 0.15);\n",
              "      fill: #174EA6;\n",
              "    }\n",
              "\n",
              "    [theme=dark] .colab-df-convert {\n",
              "      background-color: #3B4455;\n",
              "      fill: #D2E3FC;\n",
              "    }\n",
              "\n",
              "    [theme=dark] .colab-df-convert:hover {\n",
              "      background-color: #434B5C;\n",
              "      box-shadow: 0px 1px 3px 1px rgba(0, 0, 0, 0.15);\n",
              "      filter: drop-shadow(0px 1px 2px rgba(0, 0, 0, 0.3));\n",
              "      fill: #FFFFFF;\n",
              "    }\n",
              "  </style>\n",
              "\n",
              "      <script>\n",
              "        const buttonEl =\n",
              "          document.querySelector('#df-48cacb2c-c439-42f3-9bce-f4a9c8d7ad8d button.colab-df-convert');\n",
              "        buttonEl.style.display =\n",
              "          google.colab.kernel.accessAllowed ? 'block' : 'none';\n",
              "\n",
              "        async function convertToInteractive(key) {\n",
              "          const element = document.querySelector('#df-48cacb2c-c439-42f3-9bce-f4a9c8d7ad8d');\n",
              "          const dataTable =\n",
              "            await google.colab.kernel.invokeFunction('convertToInteractive',\n",
              "                                                     [key], {});\n",
              "          if (!dataTable) return;\n",
              "\n",
              "          const docLinkHtml = 'Like what you see? Visit the ' +\n",
              "            '<a target=\"_blank\" href=https://colab.research.google.com/notebooks/data_table.ipynb>data table notebook</a>'\n",
              "            + ' to learn more about interactive tables.';\n",
              "          element.innerHTML = '';\n",
              "          dataTable['output_type'] = 'display_data';\n",
              "          await google.colab.output.renderOutput(dataTable, element);\n",
              "          const docLink = document.createElement('div');\n",
              "          docLink.innerHTML = docLinkHtml;\n",
              "          element.appendChild(docLink);\n",
              "        }\n",
              "      </script>\n",
              "    </div>\n",
              "  </div>\n",
              "  "
            ]
          },
          "metadata": {},
          "execution_count": 6
        }
      ]
    },
    {
      "cell_type": "code",
      "source": [
        "#Train : Test -> 75 : 25\n",
        "split = int(round(len(data)*.75,0))\n",
        "data_train = data[:split] #time series as train data (75%)\n",
        "data_test = data[split:] #time series as test data (25%)\n",
        "\n",
        "#Train : Test -> 50 : 50\n",
        "# split = int(round(len(data)*.5,0))\n",
        "# data_train = data[:split] #time series as train data (50%)\n",
        "# data_test = data[split:] #time series as test data (50%)\n",
        "\n",
        "data_train_arr = data_train.to_numpy()\n",
        "data_test_arr = data_test.to_numpy()\n",
        "\n",
        "train = np.reshape(data_train_arr, (data_train_arr.shape[0]))\n",
        "test = np.reshape(data_test_arr, (data_test_arr.shape[0]))"
      ],
      "metadata": {
        "id": "7gz_ZaVk-U0t"
      },
      "execution_count": null,
      "outputs": []
    },
    {
      "cell_type": "code",
      "source": [
        "print(\"% data test: \", len(data_test)/len(data)*100)"
      ],
      "metadata": {
        "colab": {
          "base_uri": "https://localhost:8080/"
        },
        "id": "qdM05zhl-7zv",
        "outputId": "9e67213b-8bbd-4bec-98fd-ac7377d0a175"
      },
      "execution_count": null,
      "outputs": [
        {
          "output_type": "stream",
          "name": "stdout",
          "text": [
            "% data test:  25.0\n"
          ]
        }
      ]
    },
    {
      "cell_type": "code",
      "source": [
        "#input sampling timeseries\n",
        "n_sampling = 12\n",
        "\n",
        "def split_sequence(sequence, n_steps):\n",
        "\t_X, _y = list(), list()\n",
        "\tfor i in range(len(sequence)):\n",
        "\t\t# find the end of this pattern\n",
        "\t\tend_ix = i + n_steps\n",
        "\t\t# check if we are beyond the sequence\n",
        "\t\tif end_ix > len(sequence)-1:\n",
        "\t\t\tbreak\n",
        "\t\t# gather input and output parts of the pattern\n",
        "\t\tseq_x, seq_y = sequence[i:end_ix], sequence[end_ix]\n",
        "\t\t_X.append(seq_x)\n",
        "\t\t_y.append(seq_y)\n",
        "\treturn np.array(_X), np.array(_y)\n",
        "\n",
        "x_train, y_train = split_sequence(train, n_sampling)\n",
        "x_test, y_test = split_sequence(test, n_sampling)"
      ],
      "metadata": {
        "id": "TPipRy3L-xBA"
      },
      "execution_count": null,
      "outputs": []
    },
    {
      "cell_type": "markdown",
      "source": [
        "# Combined"
      ],
      "metadata": {
        "id": "39XV5eZ-tWQN"
      }
    },
    {
      "cell_type": "markdown",
      "source": [
        "Training"
      ],
      "metadata": {
        "id": "I_pwhhdHX6dc"
      }
    },
    {
      "cell_type": "code",
      "source": [
        "#define param\n",
        "n = n_sampling\n",
        "input = n + 1\n",
        "layer1 = 13\n",
        "# layer2 = 39\n",
        "output = 1\n",
        "learning_rate = 0.007\n",
        "epoch = 90\n",
        "\n",
        "tf.random.set_seed(100)\n",
        "\n",
        "#define Optimizer\n",
        "adam = Adam(learning_rate=learning_rate, beta_1=0.9, beta_2=0.999, amsgrad=False)\n",
        "\n",
        "# define model\n",
        "model5 = Sequential()\n",
        "model5.add(Dense(input, activation='relu', input_dim=n))\n",
        "model5.add(Dense(layer1, activation='relu'))\n",
        "# model5.add(Dense(layer2, activation='relu'))\n",
        "model5.add(Dense(output, activation='linear'))\n",
        "model5.compile(optimizer=adam, loss='mse')\n",
        "\n",
        "# fit model \n",
        "history = model5.fit(x_train, y_train, epochs=epoch, verbose=0)"
      ],
      "metadata": {
        "id": "4TyuWFbn4OVy"
      },
      "execution_count": null,
      "outputs": []
    },
    {
      "cell_type": "code",
      "source": [
        "#alasan pilih parameter tersebut adalah mencari yang paling seimbang antara loss, volatilitas pada seluruh data, dan simplicity"
      ],
      "metadata": {
        "id": "fBJkOUPw09sX"
      },
      "execution_count": null,
      "outputs": []
    },
    {
      "cell_type": "code",
      "source": [
        "plt.plot(history.history['loss'])"
      ],
      "metadata": {
        "colab": {
          "base_uri": "https://localhost:8080/",
          "height": 283
        },
        "id": "rtFV8CnXta9D",
        "outputId": "4160cf85-c122-4b17-e5a8-c47aeffd0460"
      },
      "execution_count": null,
      "outputs": [
        {
          "output_type": "execute_result",
          "data": {
            "text/plain": [
              "[<matplotlib.lines.Line2D at 0x7f4423bb7e90>]"
            ]
          },
          "metadata": {},
          "execution_count": 11
        },
        {
          "output_type": "display_data",
          "data": {
            "text/plain": [
              "<Figure size 432x288 with 1 Axes>"
            ],
            "image/png": "[encoded data removed]"
          },
          "metadata": {
            "needs_background": "light"
          }
        }
      ]
    },
    {
      "cell_type": "code",
      "source": [
        "# plot train model\n",
        "train_prediction = model5.predict(x_train, verbose=0)\n",
        "\n",
        "train_prediction = np.reshape(train_prediction, (train_prediction.shape[0]))\n",
        "\n",
        "Tanggal = data[:split].index.to_numpy()\n",
        "Tanggal = Tanggal[n_sampling:]\n",
        "\n",
        "#Plot test and prediction model\n",
        "y_PD =  pd.DataFrame(data={'Tanggal':Tanggal, 'y_train':y_train},   \n",
        "              index=Tanggal,    \n",
        "              columns=['Tanggal', 'y_train'])  \n",
        "\n",
        "train_prediction_PD = pd.DataFrame(data={'Tanggal':Tanggal, 'train_prediction':train_prediction},   \n",
        "              index=Tanggal,    \n",
        "              columns=['Tanggal', 'train_prediction']) \n",
        "\n",
        "Final_PD = pd.merge(y_PD, train_prediction_PD, on='Tanggal', how='left')\n",
        "\n",
        "Final_PD[['y_train','train_prediction']].plot()"
      ],
      "metadata": {
        "colab": {
          "base_uri": "https://localhost:8080/",
          "height": 283
        },
        "id": "4VJU6QEKygQo",
        "outputId": "0fedf68c-a819-4eed-c6eb-b12cab0e70a1"
      },
      "execution_count": null,
      "outputs": [
        {
          "output_type": "execute_result",
          "data": {
            "text/plain": [
              "<matplotlib.axes._subplots.AxesSubplot at 0x7f4423b7e0d0>"
            ]
          },
          "metadata": {},
          "execution_count": 12
        },
        {
          "output_type": "display_data",
          "data": {
            "text/plain": [
              "<Figure size 432x288 with 1 Axes>"
            ],
            "image/png": "[encoded data removed]"
          },
          "metadata": {
            "needs_background": "light"
          }
        }
      ]
    },
    {
      "cell_type": "code",
      "source": [
        "# Final_PD.index = pd.to_datetime(Final_PD.Tanggal)\n",
        "# Final_PD.drop([\"Tanggal\"], axis=1, inplace=True)\n",
        "\n",
        "# Final_PD_inv = scaler.inverse_transform(Final_PD)\n",
        "# Final_PD_model = pd.DataFrame(Final_PD_inv, columns = ['y_train','train_prediction'])\n",
        "\n",
        "# Final_PD_model.to_excel('Training Result v3 n_sampling=12 MEGA Monthly.xlsx')"
      ],
      "metadata": {
        "id": "jemSWqrVzxeV"
      },
      "execution_count": null,
      "outputs": []
    },
    {
      "cell_type": "code",
      "source": [
        "y_PD.drop([\"Tanggal\"], axis=1, inplace=True)\n",
        "train_prediction_PD.drop([\"Tanggal\"], axis=1, inplace=True)\n",
        "\n",
        "y_PD_arr = y_PD.to_numpy()\n",
        "y_prediction_PD_arr = train_prediction_PD.to_numpy()"
      ],
      "metadata": {
        "id": "vN1cM1cGXHGh"
      },
      "execution_count": null,
      "outputs": []
    },
    {
      "cell_type": "code",
      "source": [
        "mse = mean_squared_error(y_PD_arr, y_prediction_PD_arr)\n",
        "print(\"Akurasi\", (1-mse))\n",
        "print(\"MSE: \", mse)"
      ],
      "metadata": {
        "colab": {
          "base_uri": "https://localhost:8080/"
        },
        "outputId": "a53f0e95-b3ed-443f-9d4e-9b3b2e6316f9",
        "id": "ms-prLsGXLHB"
      },
      "execution_count": null,
      "outputs": [
        {
          "output_type": "stream",
          "name": "stdout",
          "text": [
            "Akurasi 0.9907581464756399\n",
            "MSE:  0.009241853524360077\n"
          ]
        }
      ]
    },
    {
      "cell_type": "code",
      "source": [
        "#Train 75 25 MSE=0.009241853524360077\n",
        "#Train 50 50 MSE=0.0030943594076054616"
      ],
      "metadata": {
        "id": "uRdFqVQlyEig"
      },
      "execution_count": null,
      "outputs": []
    },
    {
      "cell_type": "markdown",
      "source": [
        "Testing"
      ],
      "metadata": {
        "id": "6d1uSJO8YSJJ"
      }
    },
    {
      "cell_type": "code",
      "source": [
        "# test model\n",
        "y_prediction = model5.predict(x_test, verbose=0)\n",
        "\n",
        "y_prediction = np.reshape(y_prediction, (y_prediction.shape[0]))\n",
        "\n",
        "Tanggal = data[split:].index.to_numpy()\n",
        "Tanggal = Tanggal[n_sampling:]\n",
        "\n",
        "#Plot test and prediction model\n",
        "y_PD =  pd.DataFrame(data={'Tanggal':Tanggal, 'y_test':y_test},   \n",
        "              index=Tanggal,    \n",
        "              columns=['Tanggal', 'y_test'])  \n",
        "\n",
        "y_prediction_PD = pd.DataFrame(data={'Tanggal':Tanggal, 'y_prediction':y_prediction},   \n",
        "              index=Tanggal,    \n",
        "              columns=['Tanggal', 'y_prediction']) \n",
        "\n",
        "Final_PD = pd.merge(y_PD, y_prediction_PD, on='Tanggal', how='left')\n",
        "\n",
        "Final_PD[['y_test','y_prediction']].plot()"
      ],
      "metadata": {
        "colab": {
          "base_uri": "https://localhost:8080/",
          "height": 283
        },
        "id": "yenzPsDUYJOL",
        "outputId": "c73ad0e7-8e03-4114-8169-dab1bd86fbdc"
      },
      "execution_count": null,
      "outputs": [
        {
          "output_type": "execute_result",
          "data": {
            "text/plain": [
              "<matplotlib.axes._subplots.AxesSubplot at 0x7f441f4b9c10>"
            ]
          },
          "metadata": {},
          "execution_count": 17
        },
        {
          "output_type": "display_data",
          "data": {
            "text/plain": [
              "<Figure size 432x288 with 1 Axes>"
            ],
            "image/png": "[encoded data removed]"
          },
          "metadata": {
            "needs_background": "light"
          }
        }
      ]
    },
    {
      "cell_type": "code",
      "source": [
        "# Final_PD.index = pd.to_datetime(Final_PD.Tanggal)\n",
        "# Final_PD.drop([\"Tanggal\"], axis=1, inplace=True)\n",
        "\n",
        "# Final_PD_inv = scaler.inverse_transform(Final_PD)\n",
        "# Final_PD_model = pd.DataFrame(Final_PD_inv, columns = ['Actual Test Data','Prediction Test Data'])\n",
        "\n",
        "# Final_PD_model.to_excel('Prediction Result v3 n_sampling=12 MEGA Monthly.xlsx')"
      ],
      "metadata": {
        "id": "73iO2sVDmnY8"
      },
      "execution_count": null,
      "outputs": []
    },
    {
      "cell_type": "markdown",
      "source": [
        "Mean Square Error"
      ],
      "metadata": {
        "id": "iM4oT15IZpIH"
      }
    },
    {
      "cell_type": "code",
      "source": [
        "y_PD.drop([\"Tanggal\"], axis=1, inplace=True)\n",
        "y_prediction_PD.drop([\"Tanggal\"], axis=1, inplace=True)\n",
        "\n",
        "y_PD_arr = y_PD.to_numpy()\n",
        "y_prediction_PD_arr = y_prediction_PD.to_numpy()"
      ],
      "metadata": {
        "id": "9ZTXrx-_YUFy"
      },
      "execution_count": null,
      "outputs": []
    },
    {
      "cell_type": "code",
      "source": [
        "mse = mean_squared_error(y_PD_arr, y_prediction_PD_arr)\n",
        "print(\"Akurasi\", (1-mse))\n",
        "print(\"MSE: \", mse)"
      ],
      "metadata": {
        "colab": {
          "base_uri": "https://localhost:8080/"
        },
        "id": "U7pX7_H_aZow",
        "outputId": "b335f2f3-525a-4832-bb91-973cba3ec0b6"
      },
      "execution_count": null,
      "outputs": [
        {
          "output_type": "stream",
          "name": "stdout",
          "text": [
            "Akurasi 0.9410532626047884\n",
            "MSE:  0.058946737395211585\n"
          ]
        }
      ]
    },
    {
      "cell_type": "code",
      "source": [
        "#Test 75 25 MSE=0.058946737395211585\n",
        "#Test 50 50 MSE=0.035151542614513254"
      ],
      "metadata": {
        "id": "S9CKLVTXyQUY"
      },
      "execution_count": null,
      "outputs": []
    },
    {
      "cell_type": "markdown",
      "source": [
        "Export Final Model"
      ],
      "metadata": {
        "id": "G28f5B63vybA"
      }
    },
    {
      "cell_type": "code",
      "source": [
        "# #export model using pickel\n",
        "# import pickle\n",
        "\n",
        "# #save model to disk\n",
        "# filename = 'MEGA M 60 0.005 50 mse=0.004772.sav'\n",
        "# pickle.dump(model5, open(filename, 'wb'))\n",
        "\n",
        "# # load the model from disk\n",
        "# # loaded_model = pickle.load(open(filename, 'rb'))\n",
        "# # result = loaded_model.score(X_test, Y_test)\n",
        "# # print(result)"
      ],
      "metadata": {
        "id": "usUOqwj97UM0",
        "colab": {
          "base_uri": "https://localhost:8080/"
        },
        "outputId": "2e085f05-c3e4-44e0-ee3d-3eae850d3767"
      },
      "execution_count": null,
      "outputs": [
        {
          "output_type": "stream",
          "name": "stdout",
          "text": [
            "INFO:tensorflow:Assets written to: ram://84bbe153-89fd-43e9-bb8a-39002433a621/assets\n"
          ]
        }
      ]
    },
    {
      "cell_type": "code",
      "source": [
        "# #export model using joblib\n",
        "# import joblib\n",
        "\n",
        "# # save the model to disk\n",
        "# # filename = 'finalized_model.sav'\n",
        "# # joblib.dump(model, filename)\n",
        "\n",
        "# # load the model from disk\n",
        "# model_name = 'BBRI M 8 0.008 161 loss=0.00609.sav'\n",
        "# loaded_model = joblib.load(model_name)\n",
        "# # result = loaded_model.predict(x_test, y_test)\n",
        "# # print(result)"
      ],
      "metadata": {
        "id": "121qGMRPyKv3"
      },
      "execution_count": null,
      "outputs": []
    },
    {
      "cell_type": "code",
      "source": [
        "# loaded_model.weights"
      ],
      "metadata": {
        "colab": {
          "base_uri": "https://localhost:8080/"
        },
        "id": "q-U-t5TJTOuq",
        "outputId": "52b2895a-8eaf-4e1c-9e39-607c5d359558"
      },
      "execution_count": null,
      "outputs": [
        {
          "output_type": "execute_result",
          "data": {
            "text/plain": [
              "[<tf.Variable 'dense_13/kernel:0' shape=(5, 6) dtype=float32, numpy=\n",
              " array([[ 0.4728928 , -0.20804167, -0.8398208 , -0.6216376 ,  0.24435224,\n",
              "          0.18924084],\n",
              "        [ 0.1258476 , -0.82959116, -0.26968738, -0.5856874 ,  1.1913812 ,\n",
              "         -0.5835206 ],\n",
              "        [ 0.23100875, -0.22577332,  0.80493826,  0.0448702 , -0.10766881,\n",
              "          0.72420526],\n",
              "        [ 0.37208772,  0.36150286,  0.10642855, -0.5134552 ,  0.21437846,\n",
              "         -0.09376506],\n",
              "        [ 0.6509784 , -0.6006384 , -0.47103286, -0.35389954,  0.3349238 ,\n",
              "          0.4597595 ]], dtype=float32)>,\n",
              " <tf.Variable 'dense_13/bias:0' shape=(6,) dtype=float32, numpy=\n",
              " array([-0.03140027, -0.10985053, -0.1374046 ,  0.        , -0.09625794,\n",
              "         0.07550149], dtype=float32)>,\n",
              " <tf.Variable 'dense_14/kernel:0' shape=(6, 8) dtype=float32, numpy=\n",
              " array([[-0.13460448,  0.21763717,  0.7874137 , -0.2642669 , -0.66650474,\n",
              "         -0.41222557,  0.4523649 ,  0.19247651],\n",
              "        [ 0.21431172, -0.05113324,  0.46321395,  0.03421104,  0.5129069 ,\n",
              "         -0.11153668,  0.10324933, -0.3042266 ],\n",
              "        [ 0.13993661, -0.48335475, -0.60477793,  0.48967516, -0.39294603,\n",
              "          0.00635344,  0.63716215,  0.7432383 ],\n",
              "        [ 0.17530477, -0.27561623,  0.37396538,  0.265047  ,  0.26593667,\n",
              "          0.6217871 ,  0.33461022,  0.14416134],\n",
              "        [ 0.4332421 ,  0.7996755 , -0.29005474, -0.4296096 ,  0.15950564,\n",
              "          0.41089046, -0.28273055, -0.33490595],\n",
              "        [-0.207901  , -0.1596254 ,  0.19927962, -0.1350744 ,  0.10154296,\n",
              "         -0.7756406 ,  0.5603216 , -0.2919061 ]], dtype=float32)>,\n",
              " <tf.Variable 'dense_14/bias:0' shape=(8,) dtype=float32, numpy=\n",
              " array([-0.08475187,  0.02273816, -0.20858654, -0.04999053, -0.02658438,\n",
              "         0.03523261,  0.06279568,  0.00229108], dtype=float32)>,\n",
              " <tf.Variable 'dense_15/kernel:0' shape=(8, 1) dtype=float32, numpy=\n",
              " array([[-0.09107691],\n",
              "        [ 0.4464976 ],\n",
              "        [-0.42946848],\n",
              "        [-0.6576273 ],\n",
              "        [ 0.51824594],\n",
              "        [-1.0751126 ],\n",
              "        [ 0.06448111],\n",
              "        [ 0.20252404]], dtype=float32)>,\n",
              " <tf.Variable 'dense_15/bias:0' shape=(1,) dtype=float32, numpy=array([0.07079925], dtype=float32)>]"
            ]
          },
          "metadata": {},
          "execution_count": 24
        }
      ]
    }
  ]
}